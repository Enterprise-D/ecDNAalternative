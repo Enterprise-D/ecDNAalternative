{
 "cells": [
  {
   "cell_type": "code",
   "execution_count": 30,
   "outputs": [
    {
     "name": "stdout",
     "output_type": "stream",
     "text": [
      "tensor([[1, 2],\n",
      "        [5, 6],\n",
      "        [7, 8]])\n"
     ]
    }
   ],
   "source": [
    "import torch\n",
    "\n",
    "tensor_2d = torch.tensor([[1, 2, 3],\n",
    "                          [4, 5, 6],\n",
    "                          [7, 8, 9]])\n",
    "\n",
    "# Specify the rows you want to select\n",
    "rows_to_select = torch.tensor([0, 1, 2])\n",
    "\n",
    "# Specify the slices for columns in each row\n",
    "columns_to_select = [list(range(0, 2)), list(range(1, 3)), list(range(0, 2))]\n",
    "\n",
    "# Use indexing to select the elements\n",
    "selected_elements = tensor_2d[rows_to_select[:, None], columns_to_select]\n",
    "\n",
    "print(selected_elements)"
   ],
   "metadata": {
    "collapsed": false,
    "ExecuteTime": {
     "end_time": "2023-11-20T18:49:05.752278Z",
     "start_time": "2023-11-20T18:49:05.747758Z"
    }
   },
   "id": "36890a0bccd086f8"
  },
  {
   "cell_type": "code",
   "execution_count": 31,
   "outputs": [
    {
     "ename": "NameError",
     "evalue": "name 'x2' is not defined",
     "output_type": "error",
     "traceback": [
      "\u001B[0;31m---------------------------------------------------------------------------\u001B[0m",
      "\u001B[0;31mNameError\u001B[0m                                 Traceback (most recent call last)",
      "Cell \u001B[0;32mIn[31], line 3\u001B[0m\n\u001B[1;32m      1\u001B[0m d4_slices \u001B[38;5;241m=\u001B[39m []\n\u001B[0;32m----> 3\u001B[0m \u001B[38;5;28;01mfor\u001B[39;00m i \u001B[38;5;129;01min\u001B[39;00m \u001B[38;5;28mrange\u001B[39m(\u001B[43mx2\u001B[49m\u001B[38;5;241m.\u001B[39msize(\u001B[38;5;241m0\u001B[39m)):\n\u001B[1;32m      4\u001B[0m     d4_slices\u001B[38;5;241m.\u001B[39mappend(x2[i, \u001B[38;5;241m.\u001B[39m\u001B[38;5;241m.\u001B[39m\u001B[38;5;241m.\u001B[39m, start_indices[i]:end_indices[i]])\n\u001B[1;32m      6\u001B[0m x1 \u001B[38;5;241m=\u001B[39m torch\u001B[38;5;241m.\u001B[39mstack(d4_slices, dim\u001B[38;5;241m=\u001B[39m\u001B[38;5;241m0\u001B[39m)\n",
      "\u001B[0;31mNameError\u001B[0m: name 'x2' is not defined"
     ]
    }
   ],
   "source": [
    "        d4_slices = []\n",
    "\n",
    "        for i in range(x2.size(0)):\n",
    "            d4_slices.append(x2[i, ..., start_indices[i]:end_indices[i]])\n",
    "\n",
    "        x1 = torch.stack(d4_slices, dim=0)"
   ],
   "metadata": {
    "collapsed": false,
    "ExecuteTime": {
     "end_time": "2023-11-20T18:49:07.088072Z",
     "start_time": "2023-11-20T18:49:07.062096Z"
    }
   },
   "id": "43126e3e0bcc100c"
  },
  {
   "cell_type": "code",
   "execution_count": null,
   "outputs": [],
   "source": [],
   "metadata": {
    "collapsed": false
   },
   "id": "7ad9302bde9d03c4"
  }
 ],
 "metadata": {
  "kernelspec": {
   "display_name": "Python 3",
   "language": "python",
   "name": "python3"
  },
  "language_info": {
   "codemirror_mode": {
    "name": "ipython",
    "version": 2
   },
   "file_extension": ".py",
   "mimetype": "text/x-python",
   "name": "python",
   "nbconvert_exporter": "python",
   "pygments_lexer": "ipython2",
   "version": "2.7.6"
  }
 },
 "nbformat": 4,
 "nbformat_minor": 5
}
