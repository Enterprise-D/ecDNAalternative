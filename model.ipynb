{
 "cells": [
  {
   "cell_type": "code",
   "execution_count": 129,
   "outputs": [],
   "source": [
    "import torch\n",
    "import torch.nn as nn\n",
    "import torch.nn.functional as F\n",
    "import torch.optim as optim\n",
    "from torch.utils.data import TensorDataset, Dataset, DataLoader, random_split, SubsetRandomSampler\n",
    "from sklearn.model_selection import train_test_split\n",
    "\n",
    "import os\n",
    "import random\n",
    "import pandas as pd\n",
    "import numpy as np\n",
    "from scipy.sparse import coo_matrix\n",
    "\n",
    "random.seed(42)\n",
    "torch.manual_seed(42)\n",
    "torch.mps.manual_seed(42)"
   ],
   "metadata": {
    "collapsed": false,
    "ExecuteTime": {
     "end_time": "2023-11-17T03:13:56.091221Z",
     "start_time": "2023-11-17T03:13:56.083684Z"
    }
   },
   "id": "217d5a5b93068781"
  },
  {
   "cell_type": "code",
   "execution_count": 130,
   "outputs": [],
   "source": [
    "def read_mtx(path, index):\n",
    "    contact_mat = pd.read_csv(path,sep=\"\\t\",header=0)\n",
    "    contact_mat = contact_mat[(contact_mat[\"chrom1\"] != \"chrY\") & (contact_mat[\"chrom2\"] != \"chrY\")]\n",
    "    contact_mat = pd.concat([contact_mat[\"chrom1\"] + \"_\" + contact_mat[\"start1\"].astype(str),contact_mat[\"chrom2\"] + \"_\" + contact_mat[\"start2\"].astype(str), contact_mat[\"count\"]],axis=1)\n",
    "    contact_mat.columns = [\"loc1\",\"loc2\",\"count\"]\n",
    "    contact_mat = pd.merge(contact_mat,index,left_on=\"loc1\",right_on=\"loc\",how=\"left\").drop([\"loc\",\"loc1\"],axis=1)\n",
    "    contact_mat = contact_mat.rename(columns={contact_mat.columns[2]: \"index1\"})\n",
    "    contact_mat = pd.merge(contact_mat,index,left_on=\"loc2\",right_on=\"loc\",how=\"left\").drop([\"loc\",\"loc2\"],axis=1)\n",
    "    contact_mat = contact_mat.rename(columns={contact_mat.columns[2]: \"index2\"})\n",
    "    contact_mat = coo_matrix((contact_mat['count'], (contact_mat['index1'], contact_mat['index2'])), shape=(index.shape[0], index.shape[0]))\n",
    "    contact_mat = contact_mat.toarray()\n",
    "    \n",
    "    return contact_mat"
   ],
   "metadata": {
    "collapsed": false,
    "ExecuteTime": {
     "end_time": "2023-11-17T03:13:56.283505Z",
     "start_time": "2023-11-17T03:13:56.278654Z"
    }
   },
   "id": "54cd32c1c35d4a50"
  },
  {
   "cell_type": "code",
   "execution_count": 143,
   "outputs": [],
   "source": [
    "index = pd.read_csv(\"index.csv\",header=0)\n",
    "pos_coord = np.where(index[\"loc\"] == \"chr7_54000000\")[0][0]\n",
    "\n",
    "w0 = int((5+1)/2)\n",
    "w1 = int((45+1)/2)\n",
    "\n",
    "matrices_f1 = []\n",
    "matrices_f2 = []\n",
    "\n",
    "directories = sorted([d for d in os.listdir(\"data\") if os.path.isdir(os.path.join(\"data\", d))])\n",
    "for directory in directories:\n",
    "    mtx = read_mtx(\"data/\" + directory + \"/matrix.mtx\",index)\n",
    "\n",
    "    mtx_f2 = mtx[(pos_coord-w0+1):(pos_coord+w0),:]\n",
    "    mtx_f1 = mtx_f2[:,(pos_coord-w1+1):(pos_coord+w1)]\n",
    "    \n",
    "    stacked_mtx_f1 = torch.from_numpy(mtx_f1)\n",
    "    stacked_mtx_f2 = torch.from_numpy(mtx_f2)\n",
    "    \n",
    "    matrices_f1.append(stacked_mtx_f1)\n",
    "    matrices_f2.append(stacked_mtx_f2)\n",
    "    \n",
    "input_f1 = torch.log10(torch.stack(matrices_f1, dim=0).to(\"mps\")+1)\n",
    "input_f2 = (torch.stack(matrices_f2, dim=0).to(\"mps\")>0).int()\n",
    "label = torch.from_numpy(np.ones(input_f1.shape[0]))\n",
    "#np.zeros(input_f1.shape[0]) cat"
   ],
   "metadata": {
    "collapsed": false,
    "ExecuteTime": {
     "end_time": "2023-11-17T03:24:42.919872Z",
     "start_time": "2023-11-17T03:24:41.484654Z"
    }
   },
   "id": "f3a8bc5d97d8a6c5"
  },
  {
   "cell_type": "code",
   "execution_count": 144,
   "outputs": [],
   "source": [
    "class TripleDataset(Dataset):\n",
    "    def __init__(self, tensor1, tensor2, tensor3, train=True, val_split=0.1):\n",
    "        self.dataset1 = TensorDataset(tensor1)\n",
    "        self.dataset2 = TensorDataset(tensor2)\n",
    "        self.dataset3 = TensorDataset(tensor3)\n",
    "        \n",
    "        self.train = train\n",
    "\n",
    "        dataset_size = len(self.dataset1)\n",
    "        val_size = int(val_split * dataset_size)\n",
    "        train_size = dataset_size - val_size\n",
    "\n",
    "        indices = list(range(dataset_size))\n",
    "        train_indices, val_indices = random_split(indices, [train_size, val_size])\n",
    "\n",
    "        self.indices = train_indices if train else val_indices\n",
    "\n",
    "    def __len__(self):\n",
    "        return len(self.indices)\n",
    "\n",
    "    def __getitem__(self, index):\n",
    "        dataset_index = self.indices[index]\n",
    "        sample1 = self.dataset1[dataset_index]\n",
    "        sample2 = self.dataset2[dataset_index]\n",
    "        sample3 = self.dataset3[dataset_index]\n",
    "        return sample1, sample2, sample3\n",
    "\n",
    "train_dual_dataset = TripleDataset(input_f1, input_f2, label, train=True, val_split=0.1)\n",
    "val_dual_dataset = TripleDataset(input_f1, input_f2, label, train=False, val_split=0.1)\n",
    "\n",
    "batch_size = 32\n",
    "train_dual_dataloader = DataLoader(train_dual_dataset, batch_size=batch_size, shuffle=True)\n",
    "val_dual_dataloader = DataLoader(val_dual_dataset, batch_size=len(val_dual_dataset), shuffle=False)"
   ],
   "metadata": {
    "collapsed": false,
    "ExecuteTime": {
     "end_time": "2023-11-17T03:25:31.512454Z",
     "start_time": "2023-11-17T03:25:31.509487Z"
    }
   },
   "id": "947e05b4501ce37c"
  },
  {
   "cell_type": "code",
   "execution_count": 145,
   "outputs": [
    {
     "name": "stdout",
     "output_type": "stream",
     "text": [
      "torch.Size([4])\n"
     ]
    }
   ],
   "source": [
    "for samples1, samples2, samples3 in val_dual_dataloader:\n",
    "    print(samples3[0].shape)"
   ],
   "metadata": {
    "collapsed": false,
    "ExecuteTime": {
     "end_time": "2023-11-17T03:25:31.968239Z",
     "start_time": "2023-11-17T03:25:31.964170Z"
    }
   },
   "id": "9b2f4477c0e80591"
  },
  {
   "cell_type": "code",
   "execution_count": 5,
   "outputs": [],
   "source": [
    "class CNN(nn.Module):\n",
    "    def __init__(self):\n",
    "        super(CNN, self).__init__()\n",
    "        \n",
    "        self.conv_f1_l1 = nn.Conv2d(1, 8, kernel_size=(5,4), stride=1, padding=0)\n",
    "        self.conv_f1_l2 = nn.Conv2d(8, 16, kernel_size=(1,4), stride=1, padding=0)\n",
    "        \n",
    "        self.conv_f2_l1 = nn.Conv2d(1, 4, kernel_size=(5,45), stride=1, padding=0)\n",
    "        self.conv_f2_l2 = nn.Conv2d(4, 8, kernel_size=(1,45), stride=1, padding=0)\n",
    "        \n",
    "        self.pool_f1_l1 = nn.MaxPool2d(kernel_size=2, stride=2, padding=0)\n",
    "        self.pool_f2_l1 = nn.MaxPool2d(kernel_size=6, stride=6, padding=0)\n",
    "        self.pool_f2_l2 = nn.MaxPool2d(kernel_size=6, stride=6, padding=0)\n",
    "        \n",
    "        self.fc_f1_l1 = nn.Linear(18 * 16, 64)\n",
    "        self.fc_f2_l1 = nn.Linear(76 * 8, 128)\n",
    "        self.fc_l1 = nn.Linear(128, 10)\n",
    "        \n",
    "        self.dropout_f1 = nn.Dropout(0.5)\n",
    "        self.dropout_f2 = nn.Dropout(0.5)\n",
    "\n",
    "    def forward(self, x1, x2):\n",
    "        \n",
    "        x2_s = F.normalize(torch.sum(x2, dim=1))\n",
    "        \n",
    "        x1 = F.relu(self.conv_f1_l1(x1))\n",
    "        x1 = self.pool_f1_l1(x1)\n",
    "        x1 = F.relu(self.conv_f1_l2(x1))\n",
    "        \n",
    "        x2 = F.relu(self.conv_f2_l1(x2))\n",
    "        x2 = self.pool_f2_l1(x2)\n",
    "        x2 = F.relu(self.conv_f2_l2(x2))\n",
    "        x2 = self.pool_f2_l2(x2)\n",
    "\n",
    "        x1 = x1.view(-1, 18 * 16)\n",
    "        x2 = x2.view(-1, 76 * 8)\n",
    "\n",
    "        x1 = F.relu(self.fc_f1_l1(x1))\n",
    "        x2 = F.relu(self.fc_f2_l1(x2))\n",
    "        \n",
    "        x1 = self.dropout_f1(x1)\n",
    "        x2 = self.dropout_f2(x2)\n",
    "        \n",
    "        x = torch.cat((x1, x2, x2_s), dim=1)\n",
    "        \n",
    "        x = F.sigmoid(self.fc_l1(x))\n",
    "\n",
    "        return x"
   ],
   "metadata": {
    "collapsed": false
   },
   "id": "initial_id"
  },
  {
   "cell_type": "code",
   "execution_count": null,
   "outputs": [],
   "source": [
    "# Split the dataset into training and validation sets\n",
    "train_indices, val_indices = train_test_split(list(range(len(mnist_train))), test_size=0.1, random_state=42)\n",
    "train_sampler = torch.utils.data.SubsetRandomSampler(train_indices)\n",
    "val_sampler = torch.utils.data.SubsetRandomSampler(val_indices)\n",
    "\n",
    "# Create data loaders\n",
    "train_loader = DataLoader(mnist_train, batch_size=64, sampler=train_sampler)\n",
    "val_loader = DataLoader(mnist_train, batch_size=64, sampler=val_sampler)\n",
    "test_loader = DataLoader(mnist_test, batch_size=64, shuffle=False)\n",
    "\n",
    "# Instantiate the model, loss function, and optimizer\n",
    "model = CNN()\n",
    "criterion = nn.CrossEntropyLoss()\n",
    "optimizer = optim.Adam(model.parameters(), lr=0.001)\n",
    "\n",
    "# Training loop\n",
    "epochs = 5\n",
    "for epoch in range(epochs):\n",
    "    model.train()\n",
    "    for images, labels in train_loader:\n",
    "        optimizer.zero_grad()\n",
    "        outputs = model(images)\n",
    "        loss = criterion(outputs, labels)\n",
    "        loss.backward()\n",
    "        optimizer.step()\n",
    "\n",
    "    # Validation loop\n",
    "    model.eval()\n",
    "    val_loss = 0.0\n",
    "    correct = 0\n",
    "    total = 0\n",
    "    with torch.no_grad():\n",
    "        for images, labels in val_loader:\n",
    "            outputs = model(images)\n",
    "            loss = criterion(outputs, labels)\n",
    "            val_loss += loss.item()\n",
    "        \n",
    "            # Use the actual batch size for accuracy calculation\n",
    "            _, predicted = torch.max(outputs.data, 1)\n",
    "            total += labels.size(0)\n",
    "            correct += (predicted == labels).sum().item()\n",
    "\n",
    "average_val_loss = val_loss / len(val_loader)\n",
    "accuracy = correct / total\n",
    "\n",
    "print(f'Epoch {epoch + 1}/{epochs}, Loss: {loss.item():.4f}, Validation Loss: {average_val_loss:.4f}, Accuracy: {accuracy * 100:.2f}%')\n",
    "\n",
    "# Test the model on the test set\n",
    "model.eval()\n",
    "test_correct = 0\n",
    "test_total = 0\n",
    "with torch.no_grad():\n",
    "    for images, labels in test_loader:\n",
    "        outputs = model(images)\n",
    "        _, predicted = torch.max(outputs.data, 1)\n",
    "        test_total += labels.size(0)\n",
    "        test_correct += (predicted == labels).sum().item()\n",
    "\n",
    "test_accuracy = test_correct / test_total\n",
    "print(f'Test Accuracy: {test_accuracy * 100:.2f}%')"
   ],
   "metadata": {
    "collapsed": false
   },
   "id": "8039120afc63c90f"
  }
 ],
 "metadata": {
  "kernelspec": {
   "display_name": "Python 3",
   "language": "python",
   "name": "python3"
  },
  "language_info": {
   "codemirror_mode": {
    "name": "ipython",
    "version": 2
   },
   "file_extension": ".py",
   "mimetype": "text/x-python",
   "name": "python",
   "nbconvert_exporter": "python",
   "pygments_lexer": "ipython2",
   "version": "2.7.6"
  }
 },
 "nbformat": 4,
 "nbformat_minor": 5
}
