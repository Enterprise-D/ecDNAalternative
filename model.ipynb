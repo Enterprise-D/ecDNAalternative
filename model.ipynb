{
 "cells": [
  {
   "cell_type": "code",
   "execution_count": 15,
   "outputs": [],
   "source": [
    "import os\n",
    "import random\n",
    "\n",
    "import matplotlib.pyplot as plt\n",
    "import numpy as np\n",
    "import pandas as pd\n",
    "import torch\n",
    "import torch.nn as nn\n",
    "import torch.nn.functional as F\n",
    "import torch.optim as optim\n",
    "from scipy.sparse import coo_matrix\n",
    "from sklearn.metrics import confusion_matrix, accuracy_score, precision_score, recall_score, f1_score\n",
    "from torch.utils.data import Dataset, DataLoader\n",
    "\n",
    "random.seed(42)\n",
    "torch.manual_seed(42)\n",
    "torch.mps.manual_seed(42)"
   ],
   "metadata": {
    "collapsed": false,
    "ExecuteTime": {
     "end_time": "2023-11-18T04:13:23.095554Z",
     "start_time": "2023-11-18T04:13:23.089642Z"
    }
   },
   "id": "217d5a5b93068781"
  },
  {
   "cell_type": "code",
   "execution_count": 16,
   "outputs": [],
   "source": [
    "def read_mtx(path, index):\n",
    "    contact_mat = pd.read_csv(path, sep=\"\\t\", header=0)\n",
    "    contact_mat = contact_mat[(contact_mat[\"chrom1\"] != \"chrY\") & (contact_mat[\"chrom2\"] != \"chrY\")]\n",
    "    contact_mat = pd.concat([contact_mat[\"chrom1\"] + \"_\" + contact_mat[\"start1\"].astype(str),\n",
    "                             contact_mat[\"chrom2\"] + \"_\" + contact_mat[\"start2\"].astype(str), contact_mat[\"count\"]],\n",
    "                            axis=1)\n",
    "    contact_mat.columns = [\"loc1\", \"loc2\", \"count\"]\n",
    "    contact_mat = pd.merge(contact_mat, index, left_on=\"loc1\", right_on=\"loc\", how=\"left\").drop([\"loc\", \"loc1\"], axis=1)\n",
    "    contact_mat = contact_mat.rename(columns={contact_mat.columns[2]: \"index1\"})\n",
    "    contact_mat = pd.merge(contact_mat, index, left_on=\"loc2\", right_on=\"loc\", how=\"left\").drop([\"loc\", \"loc2\"], axis=1)\n",
    "    contact_mat = contact_mat.rename(columns={contact_mat.columns[2]: \"index2\"})\n",
    "    contact_mat = coo_matrix((contact_mat['count'], (contact_mat['index1'], contact_mat['index2'])),\n",
    "                             shape=(index.shape[0], index.shape[0]))\n",
    "    contact_mat = contact_mat.toarray()\n",
    "\n",
    "    return contact_mat"
   ],
   "metadata": {
    "collapsed": false,
    "ExecuteTime": {
     "end_time": "2023-11-18T04:13:23.460085Z",
     "start_time": "2023-11-18T04:13:23.454856Z"
    }
   },
   "id": "54cd32c1c35d4a50"
  },
  {
   "cell_type": "code",
   "execution_count": 17,
   "outputs": [],
   "source": [
    "def prep_data(sample, coord, index, is_pos, win0):\n",
    "    matrices_f2 = []\n",
    "\n",
    "    directories = sorted([d for d in os.listdir(\"data/\" + sample) if os.path.isdir(os.path.join(\"data/\" + sample, d))])\n",
    "    for directory in directories:\n",
    "\n",
    "        if not os.path.exists(\"data/\" + sample + \"/\" + directory + \"/1000000.CNV.bedGraph\"):\n",
    "            continue\n",
    "\n",
    "        try:\n",
    "            mtx = read_mtx(\"data/\" + sample + \"/\" + directory + \"/matrix.mtx\", index)\n",
    "        except:\n",
    "            continue\n",
    "\n",
    "        mtx_f2 = mtx[(coord - int((win0 + 1) / 2) + 1):(coord + int((win0 + 1) / 2)), :]\n",
    "\n",
    "        stacked_mtx_f2 = torch.from_numpy(mtx_f2).to_sparse_coo()\n",
    "\n",
    "        matrices_f2.append(stacked_mtx_f2)\n",
    "\n",
    "    input_f2 = torch.stack(matrices_f2, dim=0)\n",
    "\n",
    "    if is_pos:\n",
    "        label = torch.from_numpy(np.ones(input_f2.shape[0])).int()\n",
    "    else:\n",
    "        label = torch.from_numpy(np.zeros(input_f2.shape[0])).int()\n",
    "\n",
    "    dirs = [sample + \"/\" + item for item in directories]\n",
    "\n",
    "    return input_f2, label, dirs"
   ],
   "metadata": {
    "collapsed": false,
    "ExecuteTime": {
     "end_time": "2023-11-18T04:13:23.987904Z",
     "start_time": "2023-11-18T04:13:23.984375Z"
    }
   },
   "id": "b5fd2c4497cd6bf7"
  },
  {
   "cell_type": "code",
   "execution_count": 18,
   "outputs": [],
   "source": [
    "chr_index = pd.read_csv(\"index.csv\", header=0)\n",
    "pos_coord = np.where(chr_index[\"loc\"] == \"chr7_55000000\")[0][0]\n",
    "window_0 = 5\n",
    "window_1 = 45\n",
    "\n",
    "pos_f2, pos_label, pos_dirs = prep_data(\"LC499\", pos_coord, chr_index, True, window_0)\n",
    "neg_f2, neg_label, neg_dirs = prep_data(\"LC500\", pos_coord, chr_index, False, window_0)\n",
    "\n",
    "input_f2 = torch.cat((pos_f2, neg_f2), dim=0).unsqueeze(1)\n",
    "label = torch.cat((pos_label, neg_label), dim=0)\n",
    "dirs = pos_dirs + neg_dirs"
   ],
   "metadata": {
    "collapsed": false,
    "ExecuteTime": {
     "end_time": "2023-11-18T04:16:55.789082Z",
     "start_time": "2023-11-18T04:13:24.253649Z"
    }
   },
   "id": "f3a8bc5d97d8a6c5"
  },
  {
   "cell_type": "code",
   "execution_count": 19,
   "outputs": [],
   "source": [
    "val_split = 0.1\n",
    "\n",
    "len_indices = len(input_f2)\n",
    "all_indices = list(range(len_indices))\n",
    "random.shuffle(all_indices)\n",
    "num_val = int(np.floor(val_split * len_indices))\n",
    "\n",
    "val_indices = torch.tensor(all_indices[:num_val])\n",
    "train_indices = torch.tensor(all_indices[num_val:])\n",
    "\n",
    "input_f2_train = torch.index_select(input_f2, 0, train_indices)\n",
    "label_train = torch.index_select(label, 0, train_indices)\n",
    "dirs_train = [dirs[i] for i in train_indices]\n",
    "\n",
    "input_f2_val = torch.index_select(input_f2, 0, val_indices)\n",
    "label_val = torch.index_select(label, 0, val_indices)\n",
    "dirs_val = [dirs[i] for i in val_indices]"
   ],
   "metadata": {
    "collapsed": false,
    "ExecuteTime": {
     "end_time": "2023-11-18T04:16:55.816366Z",
     "start_time": "2023-11-18T04:16:55.793563Z"
    }
   },
   "id": "46994ac9c291cff9"
  },
  {
   "cell_type": "code",
   "execution_count": 20,
   "outputs": [],
   "source": [
    "class QuadDataset(Dataset):\n",
    "    def __init__(self, tensor1, tensor2, dirs):\n",
    "        self.tensor1 = tensor1\n",
    "        self.tensor2 = tensor2\n",
    "        self.dirs = dirs\n",
    "\n",
    "    def __len__(self):\n",
    "        return len(self.tensor1)\n",
    "\n",
    "    def __getitem__(self, index):\n",
    "        sample1 = self.tensor1[index]\n",
    "        sample2 = self.tensor2[index]\n",
    "        directories = self.dirs[index]\n",
    "\n",
    "        return sample1, sample2, directories"
   ],
   "metadata": {
    "collapsed": false,
    "ExecuteTime": {
     "end_time": "2023-11-18T04:16:55.821489Z",
     "start_time": "2023-11-18T04:16:55.816463Z"
    }
   },
   "id": "947e05b4501ce37c"
  },
  {
   "cell_type": "code",
   "execution_count": 21,
   "outputs": [],
   "source": [
    "batch_size = 64\n",
    "train_dataloader = DataLoader(QuadDataset(input_f2_train, label_train, dirs_train), batch_size=batch_size, shuffle=True)\n",
    "val_dataloader = DataLoader(QuadDataset(input_f2_val, label_val, dirs_val), batch_size=batch_size, shuffle=True)"
   ],
   "metadata": {
    "collapsed": false,
    "ExecuteTime": {
     "end_time": "2023-11-18T04:16:55.827124Z",
     "start_time": "2023-11-18T04:16:55.820163Z"
    }
   },
   "id": "6fbc97aad7de7a8d"
  },
  {
   "cell_type": "code",
   "execution_count": 22,
   "outputs": [],
   "source": [
    "def zi_pois_noise(shape, lambda_, p_zero):\n",
    "    uniform_noise = torch.rand(shape)\n",
    "\n",
    "    zero_mask = uniform_noise < p_zero\n",
    "\n",
    "    poisson_noise = torch.poisson(lambda_ * torch.ones(shape))\n",
    "\n",
    "    noise = poisson_noise * ~zero_mask\n",
    "\n",
    "    return noise"
   ],
   "metadata": {
    "collapsed": false,
    "ExecuteTime": {
     "end_time": "2023-11-18T04:16:55.827382Z",
     "start_time": "2023-11-18T04:16:55.823405Z"
    }
   },
   "id": "fd97d2d9436c1ee"
  },
  {
   "cell_type": "code",
   "execution_count": 23,
   "outputs": [],
   "source": [
    "class CNN(nn.Module):\n",
    "    def __init__(self):\n",
    "        super(CNN, self).__init__()\n",
    "\n",
    "        self.conv_f1_l1 = nn.Conv2d(1, 8, kernel_size=(window_0 - 1, 4), stride=(1, 1), padding=(0, 0))\n",
    "        self.conv_f1_l2 = nn.Conv2d(8, 16, kernel_size=(1, 4), stride=1, padding=0)\n",
    "        self.conv_f2_l1 = nn.Conv2d(1, 8, kernel_size=(window_0 - 1, 45), stride=(1, 11), padding=(0, 2))\n",
    "        self.conv_f2_l2 = nn.Conv2d(8, 16, kernel_size=(1, 45), stride=4, padding=0)\n",
    "\n",
    "        self.bn_f1_l1 = nn.BatchNorm2d(8)\n",
    "        self.bn_f1_l2 = nn.BatchNorm2d(16)\n",
    "        self.bn_f2_l1 = nn.BatchNorm2d(8)\n",
    "        self.bn_f2_l2 = nn.BatchNorm2d(16)\n",
    "        self.bn_fc_f1 = nn.BatchNorm1d(64)\n",
    "        self.bn_fc_f2 = nn.BatchNorm1d(64)\n",
    "        self.bn_fc_l1 = nn.BatchNorm1d(64)\n",
    "\n",
    "        self.pool_f1_l1 = nn.MaxPool2d(kernel_size=(2, 2), stride=2, padding=0)\n",
    "        self.pool_f2_l1 = nn.MaxPool2d(kernel_size=(2, 2), stride=2, padding=0)\n",
    "\n",
    "        self.fc_f1_l1 = nn.Linear(18 * 16, 64)\n",
    "        self.fc_f2_l1 = nn.Linear(24 * 16, 64)\n",
    "        self.fc_l1 = nn.Linear(64 + 64 + window_0, 64)\n",
    "        self.fc_l2 = nn.Linear(64, 1)\n",
    "\n",
    "        self.dropout_f1 = nn.Dropout(0.5)\n",
    "        self.dropout_f2 = nn.Dropout(0.5)\n",
    "        self.dropout_fc = nn.Dropout(0.5)\n",
    "\n",
    "    def forward(self, x2):\n",
    "        if self.training:\n",
    "            noise = zi_pois_noise(x2.shape, 1, 0.999)\n",
    "            x2 = x2 + noise.float().to(\"mps\")\n",
    "\n",
    "        x1 = x2[..., (pos_coord - int((window_1 + 1) / 2) + 1):(pos_coord + int((window_1 + 1) / 2))]\n",
    "\n",
    "        x1 = torch.log2(x1 + 1)\n",
    "        x2 = (x2 > 0).float()\n",
    "\n",
    "        x2_s = F.normalize(torch.squeeze(torch.sum(x2, dim=-1), dim=1), dim=-1, p=1)\n",
    "\n",
    "        x1 = self.pool_f1_l1(F.relu(self.bn_f1_l1(self.conv_f1_l1(x1))))\n",
    "        x1 = F.relu(self.bn_f1_l2(self.conv_f1_l2(x1)))\n",
    "\n",
    "        x2 = self.pool_f2_l1(F.relu(self.bn_f2_l1(self.conv_f2_l1(x2))))\n",
    "        x2 = F.relu(self.bn_f2_l2(self.conv_f2_l2(x2)))\n",
    "\n",
    "        x1 = x1.view(-1, 18 * 16)\n",
    "        x2 = x2.view(-1, 24 * 16)\n",
    "\n",
    "        x1 = self.dropout_f1(F.relu(self.bn_fc_f1(self.fc_f1_l1(x1))))\n",
    "        x2 = self.dropout_f2(F.relu(self.bn_fc_f2(self.fc_f2_l1(x2))))\n",
    "\n",
    "        x = torch.cat((x1, x2, x2_s), dim=1)\n",
    "\n",
    "        x = self.dropout_fc(F.relu(self.bn_fc_l1(self.fc_l1(x))))\n",
    "\n",
    "        x = F.sigmoid(self.fc_l2(x))\n",
    "\n",
    "        return x.squeeze(-1)"
   ],
   "metadata": {
    "collapsed": false,
    "ExecuteTime": {
     "end_time": "2023-11-18T04:16:55.832898Z",
     "start_time": "2023-11-18T04:16:55.831040Z"
    }
   },
   "id": "initial_id"
  },
  {
   "cell_type": "code",
   "execution_count": 24,
   "outputs": [],
   "source": [
    "model = CNN().to(\"mps\")\n",
    "criterion = nn.CrossEntropyLoss().to(\"mps\")\n",
    "optimizer = optim.AdamW(model.parameters(), lr=0.0003)\n",
    "\n",
    "train_losses_epoch = []\n",
    "val_losses_epoch = []\n",
    "accuracies_epoch = []\n",
    "epochs = []\n",
    "\n",
    "val_labels = []\n",
    "val_predictions = []\n",
    "val_directories = []\n",
    "\n",
    "num_epochs = 20\n",
    "prob_threshold = 0.5"
   ],
   "metadata": {
    "collapsed": false,
    "ExecuteTime": {
     "end_time": "2023-11-18T04:16:55.852857Z",
     "start_time": "2023-11-18T04:16:55.834803Z"
    }
   },
   "id": "96aedbcb099f7726"
  },
  {
   "cell_type": "code",
   "execution_count": 25,
   "outputs": [
    {
     "name": "stdout",
     "output_type": "stream",
     "text": [
      "epoch 1/20, train_loss: 83.4479, val_loss: 81.8326, val_accu: 94.40%\n",
      "epoch 2/20, train_loss: 80.7778, val_loss: 81.0962, val_accu: 95.20%\n",
      "epoch 3/20, train_loss: 80.1180, val_loss: 80.1871, val_accu: 95.31%\n",
      "epoch 4/20, train_loss: 79.5461, val_loss: 80.3507, val_accu: 95.66%\n",
      "epoch 5/20, train_loss: 79.3984, val_loss: 80.8435, val_accu: 94.97%\n",
      "epoch 6/20, train_loss: 79.1343, val_loss: 80.0436, val_accu: 96.80%\n",
      "epoch 7/20, train_loss: 79.0074, val_loss: 80.4924, val_accu: 96.34%\n",
      "epoch 8/20, train_loss: 78.8297, val_loss: 80.1970, val_accu: 97.03%\n",
      "epoch 9/20, train_loss: 78.8614, val_loss: 79.8398, val_accu: 96.80%\n",
      "epoch 10/20, train_loss: 78.7535, val_loss: 79.4209, val_accu: 97.37%\n",
      "epoch 11/20, train_loss: 78.6553, val_loss: 79.9568, val_accu: 97.14%\n",
      "epoch 12/20, train_loss: 78.6619, val_loss: 80.1745, val_accu: 96.80%\n",
      "epoch 13/20, train_loss: 78.5916, val_loss: 80.6000, val_accu: 97.03%\n",
      "epoch 14/20, train_loss: 78.6039, val_loss: 80.1370, val_accu: 97.60%\n",
      "epoch 15/20, train_loss: 78.5043, val_loss: 79.5638, val_accu: 97.49%\n",
      "epoch 16/20, train_loss: 78.4518, val_loss: 79.8693, val_accu: 97.37%\n",
      "epoch 17/20, train_loss: 78.4846, val_loss: 79.6131, val_accu: 97.37%\n",
      "epoch 18/20, train_loss: 78.5028, val_loss: 79.8533, val_accu: 97.49%\n",
      "epoch 19/20, train_loss: 78.5568, val_loss: 79.7375, val_accu: 97.26%\n",
      "epoch 20/20, train_loss: 78.3942, val_loss: 79.9421, val_accu: 97.37%\n"
     ]
    }
   ],
   "source": [
    "for epoch in range(num_epochs):\n",
    "    losses = []\n",
    "    sizes = []\n",
    "\n",
    "    model.train()\n",
    "    for x2, y0, _ in train_dataloader:\n",
    "        x2 = x2.to_dense().float().to(\"mps\")\n",
    "        y0 = y0.float().to(\"mps\")\n",
    "\n",
    "        optimizer.zero_grad()\n",
    "        yh = model(x2)\n",
    "        loss = criterion(yh, y0)\n",
    "        loss.backward()\n",
    "        optimizer.step()\n",
    "\n",
    "        losses.append(loss.item())\n",
    "        sizes.append(len(y0))\n",
    "\n",
    "    train_loss = np.average(losses, weights=sizes)\n",
    "\n",
    "    losses = []\n",
    "    sizes = []\n",
    "    accuracies = []\n",
    "\n",
    "    model.eval()\n",
    "    with torch.no_grad():\n",
    "        for x2, y0, dir in val_dataloader:\n",
    "\n",
    "            x2 = x2.to_dense().float().to(\"mps\")\n",
    "            y0 = y0.float().to(\"mps\")\n",
    "\n",
    "            yh = model(x2)\n",
    "            loss = criterion(yh, y0)\n",
    "\n",
    "            yp = (yh > prob_threshold).int()\n",
    "\n",
    "            accu = torch.sum((yp == y0).float()) / len(y0)\n",
    "\n",
    "            losses.append(loss.item())\n",
    "            accuracies.append(accu.item())\n",
    "            sizes.append(len(y0))\n",
    "\n",
    "            if epoch + 1 == num_epochs:\n",
    "                val_labels = val_labels + y0.int().to(\"cpu\").numpy().tolist()\n",
    "                val_predictions = val_predictions + yp.to(\"cpu\").numpy().tolist()\n",
    "                val_directories = val_directories + list(dir)\n",
    "\n",
    "        val_loss = np.average(losses, weights=sizes)\n",
    "        val_accu = np.average(accuracies, weights=sizes)\n",
    "\n",
    "    train_losses_epoch.append(train_loss)\n",
    "    val_losses_epoch.append(val_loss)\n",
    "    accuracies_epoch.append(val_accu)\n",
    "    epochs.append(epoch + 1)\n",
    "\n",
    "    print(\n",
    "        f'epoch {epoch + 1}/{num_epochs}, train_loss: {train_loss.item():.4f}, val_loss: {val_loss:.4f}, val_accu: {val_accu * 100:.2f}%')"
   ],
   "metadata": {
    "collapsed": false,
    "ExecuteTime": {
     "end_time": "2023-11-18T04:20:38.572984Z",
     "start_time": "2023-11-18T04:16:55.856174Z"
    }
   },
   "id": "8039120afc63c90f"
  },
  {
   "cell_type": "code",
   "execution_count": 29,
   "outputs": [
    {
     "data": {
      "text/plain": "<Figure size 500x200 with 1 Axes>",
      "image/png": "[encoded data removed]"
     },
     "metadata": {},
     "output_type": "display_data"
    },
    {
     "data": {
      "text/plain": "<Figure size 500x200 with 1 Axes>",
      "image/png": "[encoded data removed]"
     },
     "metadata": {},
     "output_type": "display_data"
    }
   ],
   "source": [
    "plt.figure(figsize=(5, 2))\n",
    "plt.plot(epochs, train_losses_epoch, label='train_loss')\n",
    "plt.plot(epochs, val_losses_epoch, label='val_loss')\n",
    "plt.legend()\n",
    "plt.grid(True)\n",
    "plt.show()\n",
    "\n",
    "plt.figure(figsize=(5, 2))\n",
    "plt.plot(epochs, accuracies_epoch, label='accuracy')\n",
    "plt.legend()\n",
    "plt.grid(True)\n",
    "plt.show()"
   ],
   "metadata": {
    "collapsed": false,
    "ExecuteTime": {
     "end_time": "2023-11-18T04:20:42.697444Z",
     "start_time": "2023-11-18T04:20:42.562574Z"
    }
   },
   "id": "533cb2df0733890c"
  },
  {
   "cell_type": "code",
   "execution_count": 32,
   "outputs": [
    {
     "data": {
      "text/plain": "     label  prediction                     directory  correct\n0        0           0  LC500/LC500_CAAGAAATCGCAGATT     True\n1        1           1  LC499/LC499_AGCGTGCGTTCAGTAC     True\n2        1           1  LC499/LC499_TTACGTTCATCAGCTA     True\n3        1           1  LC499/LC499_ATGTCTTTCGGTTCCT     True\n4        0           0  LC500/LC500_AGTGCCGGTAGTAACA     True\n..     ...         ...                           ...      ...\n870      0           0  LC500/LC500_TTGCGAAGTAGCCATT     True\n871      1           1  LC499/LC499_TCGATTTTCCAAACCA     True\n872      0           0  LC500/LC500_CGTTCCATCCGTACGG     True\n873      1           1  LC499/LC499_AGCGTGCAGACTAGGC     True\n874      1           1  LC499/LC499_ACCGGGTCAAGATTAG     True\n\n[875 rows x 4 columns]",
      "text/html": "<div>\n<style scoped>\n    .dataframe tbody tr th:only-of-type {\n        vertical-align: middle;\n    }\n\n    .dataframe tbody tr th {\n        vertical-align: top;\n    }\n\n    .dataframe thead th {\n        text-align: right;\n    }\n</style>\n<table border=\"1\" class=\"dataframe\">\n  <thead>\n    <tr style=\"text-align: right;\">\n      <th></th>\n      <th>label</th>\n      <th>prediction</th>\n      <th>directory</th>\n      <th>correct</th>\n    </tr>\n  </thead>\n  <tbody>\n    <tr>\n      <th>0</th>\n      <td>0</td>\n      <td>0</td>\n      <td>LC500/LC500_CAAGAAATCGCAGATT</td>\n      <td>True</td>\n    </tr>\n    <tr>\n      <th>1</th>\n      <td>1</td>\n      <td>1</td>\n      <td>LC499/LC499_AGCGTGCGTTCAGTAC</td>\n      <td>True</td>\n    </tr>\n    <tr>\n      <th>2</th>\n      <td>1</td>\n      <td>1</td>\n      <td>LC499/LC499_TTACGTTCATCAGCTA</td>\n      <td>True</td>\n    </tr>\n    <tr>\n      <th>3</th>\n      <td>1</td>\n      <td>1</td>\n      <td>LC499/LC499_ATGTCTTTCGGTTCCT</td>\n      <td>True</td>\n    </tr>\n    <tr>\n      <th>4</th>\n      <td>0</td>\n      <td>0</td>\n      <td>LC500/LC500_AGTGCCGGTAGTAACA</td>\n      <td>True</td>\n    </tr>\n    <tr>\n      <th>...</th>\n      <td>...</td>\n      <td>...</td>\n      <td>...</td>\n      <td>...</td>\n    </tr>\n    <tr>\n      <th>870</th>\n      <td>0</td>\n      <td>0</td>\n      <td>LC500/LC500_TTGCGAAGTAGCCATT</td>\n      <td>True</td>\n    </tr>\n    <tr>\n      <th>871</th>\n      <td>1</td>\n      <td>1</td>\n      <td>LC499/LC499_TCGATTTTCCAAACCA</td>\n      <td>True</td>\n    </tr>\n    <tr>\n      <th>872</th>\n      <td>0</td>\n      <td>0</td>\n      <td>LC500/LC500_CGTTCCATCCGTACGG</td>\n      <td>True</td>\n    </tr>\n    <tr>\n      <th>873</th>\n      <td>1</td>\n      <td>1</td>\n      <td>LC499/LC499_AGCGTGCAGACTAGGC</td>\n      <td>True</td>\n    </tr>\n    <tr>\n      <th>874</th>\n      <td>1</td>\n      <td>1</td>\n      <td>LC499/LC499_ACCGGGTCAAGATTAG</td>\n      <td>True</td>\n    </tr>\n  </tbody>\n</table>\n<p>875 rows × 4 columns</p>\n</div>"
     },
     "execution_count": 32,
     "metadata": {},
     "output_type": "execute_result"
    }
   ],
   "source": [
    "pred_summary = pd.DataFrame({\"label\": val_labels, \"prediction\": val_predictions, \"directory\": val_directories})\n",
    "pred_summary[\"correct\"] = pred_summary[\"label\"] == pred_summary[\"prediction\"]\n",
    "pred_summary"
   ],
   "metadata": {
    "collapsed": false,
    "ExecuteTime": {
     "end_time": "2023-11-18T04:21:02.822821Z",
     "start_time": "2023-11-18T04:21:02.816989Z"
    }
   },
   "id": "c7fa6217eab6861c"
  },
  {
   "cell_type": "code",
   "execution_count": 33,
   "outputs": [
    {
     "name": "stdout",
     "output_type": "stream",
     "text": [
      "Accuracy: 0.97\n",
      "Precision: 0.97\n",
      "Sensitivity: 0.95\n",
      "Specificity: 0.99\n",
      "F1 Score: 0.96\n"
     ]
    },
    {
     "data": {
      "text/plain": "     PN   PP\nTN  564    8\nTP   15  288",
      "text/html": "<div>\n<style scoped>\n    .dataframe tbody tr th:only-of-type {\n        vertical-align: middle;\n    }\n\n    .dataframe tbody tr th {\n        vertical-align: top;\n    }\n\n    .dataframe thead th {\n        text-align: right;\n    }\n</style>\n<table border=\"1\" class=\"dataframe\">\n  <thead>\n    <tr style=\"text-align: right;\">\n      <th></th>\n      <th>PN</th>\n      <th>PP</th>\n    </tr>\n  </thead>\n  <tbody>\n    <tr>\n      <th>TN</th>\n      <td>564</td>\n      <td>8</td>\n    </tr>\n    <tr>\n      <th>TP</th>\n      <td>15</td>\n      <td>288</td>\n    </tr>\n  </tbody>\n</table>\n</div>"
     },
     "execution_count": 33,
     "metadata": {},
     "output_type": "execute_result"
    }
   ],
   "source": [
    "conf_matrix = confusion_matrix(pred_summary[\"label\"], pred_summary[\"prediction\"])\n",
    "tp, tn, fp, fn = conf_matrix[1, 1], conf_matrix[0, 0], conf_matrix[0, 1], conf_matrix[1, 0]\n",
    "\n",
    "accuracy = accuracy_score(pred_summary[\"label\"], pred_summary[\"prediction\"])\n",
    "precision = precision_score(pred_summary[\"label\"], pred_summary[\"prediction\"])\n",
    "recall = recall_score(pred_summary[\"label\"], pred_summary[\"prediction\"])\n",
    "f1 = f1_score(pred_summary[\"label\"], pred_summary[\"prediction\"])\n",
    "specificity = tn / (tn + fp)\n",
    "\n",
    "print(f\"Accuracy: {accuracy:.2f}\")\n",
    "print(f\"Precision: {precision:.2f}\")\n",
    "print(f\"Sensitivity: {recall:.2f}\")\n",
    "print(f\"Specificity: {specificity:.2f}\")\n",
    "print(f\"F1 Score: {f1:.2f}\")\n",
    "\n",
    "pd.DataFrame(conf_matrix, index=[\"TN\", \"TP\"], columns=[\"PN\", \"PP\"])"
   ],
   "metadata": {
    "collapsed": false,
    "ExecuteTime": {
     "end_time": "2023-11-18T04:21:03.721454Z",
     "start_time": "2023-11-18T04:21:03.698802Z"
    }
   },
   "id": "bfcb4397913f748a"
  },
  {
   "cell_type": "code",
   "execution_count": null,
   "outputs": [],
   "source": [],
   "metadata": {
    "collapsed": false
   },
   "id": "7e6b26d6d676e9e7"
  }
 ],
 "metadata": {
  "kernelspec": {
   "display_name": "Python 3",
   "language": "python",
   "name": "python3"
  },
  "language_info": {
   "codemirror_mode": {
    "name": "ipython",
    "version": 2
   },
   "file_extension": ".py",
   "mimetype": "text/x-python",
   "name": "python",
   "nbconvert_exporter": "python",
   "pygments_lexer": "ipython2",
   "version": "2.7.6"
  }
 },
 "nbformat": 4,
 "nbformat_minor": 5
}
