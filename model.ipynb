{
 "cells": [
  {
   "cell_type": "code",
   "execution_count": 157,
   "outputs": [],
   "source": [
    "import os\n",
    "import random\n",
    "import matplotlib.pyplot as plt\n",
    "import seaborn as sns\n",
    "\n",
    "import numpy as np\n",
    "import pandas as pd\n",
    "import torch\n",
    "import torch.nn as nn\n",
    "import torch.nn.functional as F\n",
    "import torch.optim as optim\n",
    "from scipy.sparse import coo_matrix\n",
    "from torch.utils.data import Dataset, DataLoader\n",
    "from sklearn.metrics import confusion_matrix, accuracy_score, precision_score, recall_score, f1_score\n",
    "\n",
    "random.seed(42)\n",
    "torch.manual_seed(42)\n",
    "torch.mps.manual_seed(42)"
   ],
   "metadata": {
    "collapsed": false,
    "ExecuteTime": {
     "end_time": "2023-11-17T22:52:21.158392Z",
     "start_time": "2023-11-17T22:52:20.907928Z"
    }
   },
   "id": "217d5a5b93068781"
  },
  {
   "cell_type": "code",
   "execution_count": 2,
   "outputs": [],
   "source": [
    "def read_mtx(path, index):\n",
    "    contact_mat = pd.read_csv(path, sep=\"\\t\", header=0)\n",
    "    contact_mat = contact_mat[(contact_mat[\"chrom1\"] != \"chrY\") & (contact_mat[\"chrom2\"] != \"chrY\")]\n",
    "    contact_mat = pd.concat([contact_mat[\"chrom1\"] + \"_\" + contact_mat[\"start1\"].astype(str),\n",
    "                             contact_mat[\"chrom2\"] + \"_\" + contact_mat[\"start2\"].astype(str), contact_mat[\"count\"]],\n",
    "                            axis=1)\n",
    "    contact_mat.columns = [\"loc1\", \"loc2\", \"count\"]\n",
    "    contact_mat = pd.merge(contact_mat, index, left_on=\"loc1\", right_on=\"loc\", how=\"left\").drop([\"loc\", \"loc1\"], axis=1)\n",
    "    contact_mat = contact_mat.rename(columns={contact_mat.columns[2]: \"index1\"})\n",
    "    contact_mat = pd.merge(contact_mat, index, left_on=\"loc2\", right_on=\"loc\", how=\"left\").drop([\"loc\", \"loc2\"], axis=1)\n",
    "    contact_mat = contact_mat.rename(columns={contact_mat.columns[2]: \"index2\"})\n",
    "    contact_mat = coo_matrix((contact_mat['count'], (contact_mat['index1'], contact_mat['index2'])),\n",
    "                             shape=(index.shape[0], index.shape[0]))\n",
    "    contact_mat = contact_mat.toarray()\n",
    "\n",
    "    return contact_mat"
   ],
   "metadata": {
    "collapsed": false,
    "ExecuteTime": {
     "end_time": "2023-11-17T21:34:48.643496Z",
     "start_time": "2023-11-17T21:34:48.638224Z"
    }
   },
   "id": "54cd32c1c35d4a50"
  },
  {
   "cell_type": "code",
   "execution_count": 3,
   "outputs": [],
   "source": [
    "def zi_pois_noise(shape, lambda_, p_zero):\n",
    "    uniform_noise = np.random.rand(*shape)\n",
    "    zero_mask = uniform_noise < p_zero\n",
    "\n",
    "    poisson_noise = np.random.poisson(lambda_, size=shape)\n",
    "\n",
    "    noise = poisson_noise * ~zero_mask\n",
    "\n",
    "    return noise"
   ],
   "metadata": {
    "collapsed": false,
    "ExecuteTime": {
     "end_time": "2023-11-17T21:34:48.644055Z",
     "start_time": "2023-11-17T21:34:48.640608Z"
    }
   },
   "id": "aa86bb0e2fda1ed0"
  },
  {
   "cell_type": "code",
   "execution_count": 4,
   "outputs": [],
   "source": [
    "def mtx_slice(mtx, coord, w0, w1, noise_param):\n",
    "    w0 = int((w0 + 1) / 2)\n",
    "    w1 = int((w1 + 1) / 2)\n",
    "    \n",
    "    lambda_, sparsity = noise_param\n",
    "    \n",
    "    mtx_f2 = mtx[(coord - w0 + 1):(coord + w0), :]\n",
    "        \n",
    "    if sparsity != 1:\n",
    "        noise = zi_pois_noise(mtx_f2.shape, lambda_, sparsity)\n",
    "        mtx_f2 = mtx_f2 + noise\n",
    "        \n",
    "    mtx_f1 = mtx_f2[:, (coord - w1 + 1):(coord + w1)]\n",
    "\n",
    "    return mtx_f1, mtx_f2"
   ],
   "metadata": {
    "collapsed": false,
    "ExecuteTime": {
     "end_time": "2023-11-17T21:34:48.649599Z",
     "start_time": "2023-11-17T21:34:48.645914Z"
    }
   },
   "id": "c89db8003656ca1c"
  },
  {
   "cell_type": "code",
   "execution_count": 5,
   "outputs": [],
   "source": [
    "def prep_data(sample, bin, index_file, is_pos, noise_param):\n",
    "    \n",
    "    index = pd.read_csv(index_file, header=0)\n",
    "    coord = np.where(index[\"loc\"] == bin)[0][0]\n",
    "    \n",
    "    matrices_f1 = []\n",
    "    matrices_f2 = []\n",
    "\n",
    "    directories = sorted([d for d in os.listdir(\"data/\" + sample) if os.path.isdir(os.path.join(\"data/\" + sample, d))])\n",
    "    for directory in directories:\n",
    "        \n",
    "        if not os.path.exists(\"data/\" + sample + \"/\" + directory + \"/1000000.CNV.bedGraph\"):\n",
    "            continue\n",
    "        \n",
    "        try:\n",
    "            mtx = read_mtx(\"data/\" + sample + \"/\" + directory + \"/matrix.mtx\", index)\n",
    "        except:\n",
    "            continue\n",
    "\n",
    "        mtx_f1, mtx_f2 = mtx_slice(mtx, coord, 5, 45, noise_param)\n",
    "\n",
    "        stacked_mtx_f1 = torch.from_numpy(np.log2(mtx_f1 + 1)).to_sparse_coo() #log2p1\n",
    "    \n",
    "        stacked_mtx_f2 = torch.from_numpy((mtx_f2 > 0).astype(int)).to_sparse_coo() # binarize\n",
    "\n",
    "        matrices_f1.append(stacked_mtx_f1)\n",
    "        matrices_f2.append(stacked_mtx_f2)\n",
    "\n",
    "    input_f1 = torch.stack(matrices_f1, dim=0)\n",
    "    input_f2 = torch.stack(matrices_f2, dim=0)\n",
    "\n",
    "    if is_pos:\n",
    "        label = torch.from_numpy(np.ones(input_f1.shape[0])).int()\n",
    "    else:\n",
    "        label = torch.from_numpy(np.zeros(input_f1.shape[0])).int()\n",
    "        \n",
    "    dirs = [item + sample for item in directories]\n",
    "\n",
    "    return input_f1, input_f2, label, dirs"
   ],
   "metadata": {
    "collapsed": false,
    "ExecuteTime": {
     "end_time": "2023-11-17T21:34:48.654907Z",
     "start_time": "2023-11-17T21:34:48.651108Z"
    }
   },
   "id": "b5fd2c4497cd6bf7"
  },
  {
   "cell_type": "code",
   "execution_count": 6,
   "outputs": [],
   "source": [
    "pos_f1, pos_f2, pos_label, pos_dirs = prep_data(\"LC499\", \"chr7_55000000\", \"index.csv\", True, (1, 0.999))\n",
    "neg_f1, neg_f2, neg_label, neg_dirs = prep_data(\"LC500\", \"chr7_55000000\", \"index.csv\", False, (1, 0.999))\n",
    "\n",
    "input_f1 = torch.cat((pos_f1, neg_f1), dim=0).unsqueeze(1)\n",
    "input_f2 = torch.cat((pos_f2, neg_f2), dim=0).unsqueeze(1)\n",
    "label = torch.cat((pos_label, neg_label), dim=0)\n",
    "dirs = pos_dirs + neg_dirs"
   ],
   "metadata": {
    "collapsed": false,
    "ExecuteTime": {
     "end_time": "2023-11-17T21:38:35.173799Z",
     "start_time": "2023-11-17T21:34:49.487712Z"
    }
   },
   "id": "f3a8bc5d97d8a6c5"
  },
  {
   "cell_type": "code",
   "execution_count": 136,
   "outputs": [],
   "source": [
    "val_split=0.1\n",
    "\n",
    "len_indicies = len(input_f1)\n",
    "all_indices = list(range(len_indicies))\n",
    "random.shuffle(all_indices)\n",
    "num_val = int(np.floor(val_split * len_indicies))\n",
    "\n",
    "val_indices = torch.tensor(all_indices[:num_val])\n",
    "train_indices = torch.tensor(all_indices[num_val:])\n",
    "\n",
    "input_f1_train = torch.index_select(input_f1,0,train_indices)\n",
    "input_f2_train = torch.index_select(input_f2,0,train_indices)\n",
    "label_train = torch.index_select(label,0,train_indices)\n",
    "dirs_train = [dirs[i] for i in train_indices]\n",
    "\n",
    "input_f1_val = torch.index_select(input_f1,0,val_indices)\n",
    "input_f2_val = torch.index_select(input_f2,0,val_indices)\n",
    "label_val = torch.index_select(label,0,val_indices)\n",
    "dirs_val = [dirs[i] for i in val_indices]"
   ],
   "metadata": {
    "collapsed": false,
    "ExecuteTime": {
     "end_time": "2023-11-17T22:44:55.271436Z",
     "start_time": "2023-11-17T22:44:55.223814Z"
    }
   },
   "id": "46994ac9c291cff9"
  },
  {
   "cell_type": "code",
   "execution_count": 137,
   "outputs": [],
   "source": [
    "class QuadDataset(Dataset):\n",
    "    def __init__(self, tensor1, tensor2, tensor3, dirs):\n",
    "        self.tensor1 = tensor1\n",
    "        self.tensor2 = tensor2\n",
    "        self.tensor3 = tensor3\n",
    "        self.dirs = dirs\n",
    "\n",
    "    def __len__(self):\n",
    "        return len(self.tensor1)\n",
    "\n",
    "    def __getitem__(self,index):\n",
    "        \n",
    "        sample1 = self.tensor1[index]\n",
    "        sample2 = self.tensor2[index]\n",
    "        sample3 = self.tensor3[index]\n",
    "        directories = self.dirs[index]\n",
    "        \n",
    "        return sample1, sample2, sample3, directories"
   ],
   "metadata": {
    "collapsed": false,
    "ExecuteTime": {
     "end_time": "2023-11-17T22:44:55.559727Z",
     "start_time": "2023-11-17T22:44:55.551063Z"
    }
   },
   "id": "947e05b4501ce37c"
  },
  {
   "cell_type": "code",
   "execution_count": 138,
   "outputs": [],
   "source": [
    "batch_size = 32\n",
    "train_dataloader = DataLoader(QuadDataset(input_f1_train, input_f2_train, label_train, dirs_train), batch_size=batch_size, shuffle=True)\n",
    "val_dataloader = DataLoader(QuadDataset(input_f1_val, input_f2_val, label_val, dirs_val), batch_size=batch_size, shuffle=True)"
   ],
   "metadata": {
    "collapsed": false,
    "ExecuteTime": {
     "end_time": "2023-11-17T22:44:55.965421Z",
     "start_time": "2023-11-17T22:44:55.958042Z"
    }
   },
   "id": "6fbc97aad7de7a8d"
  },
  {
   "cell_type": "code",
   "execution_count": 139,
   "outputs": [],
   "source": [
    "class CNN(nn.Module):\n",
    "    def __init__(self):\n",
    "        super(CNN, self).__init__()\n",
    "\n",
    "        self.conv_f1_l1 = nn.Conv2d(1, 4, kernel_size=(5, 4), stride=1, padding=0)\n",
    "        self.conv_f1_l2 = nn.Conv2d(4, 8, kernel_size=(1, 4), stride=1, padding=0)\n",
    "        self.conv_f2_l1 = nn.Conv2d(1, 4, kernel_size=(5, 45), stride=11, padding=2)\n",
    "        self.conv_f2_l2 = nn.Conv2d(4, 8, kernel_size=(1, 45), stride=4, padding=0)\n",
    "        \n",
    "        self.bn_f1_l1 = nn.BatchNorm2d(4)\n",
    "        self.bn_f1_l2 = nn.BatchNorm2d(8)\n",
    "        self.bn_f2_l1 = nn.BatchNorm2d(4)\n",
    "        self.bn_f2_l2 = nn.BatchNorm2d(8)\n",
    "        self.bn_fc_f1 = nn.BatchNorm1d(64)\n",
    "        self.bn_fc_f2 = nn.BatchNorm1d(64)\n",
    "        self.bn_fc_l1 = nn.BatchNorm1d(32)\n",
    "\n",
    "        self.pool_f1_l1 = nn.MaxPool2d(kernel_size=(1,2), stride=2, padding=0)\n",
    "        self.pool_f2_l1 = nn.MaxPool2d(kernel_size=(1,2), stride=2, padding=0)\n",
    "\n",
    "        self.fc_f1_l1 = nn.Linear(18 * 8, 64)\n",
    "        self.fc_f2_l1 = nn.Linear(24 * 8, 64)\n",
    "        self.fc_l1 = nn.Linear(64 + 64 + 5, 32)\n",
    "        self.fc_l2 = nn.Linear(32, 1)\n",
    "\n",
    "        self.dropout_f1 = nn.Dropout(0.5)\n",
    "        self.dropout_f2 = nn.Dropout(0.5)\n",
    "\n",
    "    def forward(self, x1, x2):\n",
    "        \n",
    "        x2_s = F.normalize(torch.squeeze(torch.sum(x2, dim=-1),dim=1),dim=-1,p=1)\n",
    "\n",
    "        x1 = self.pool_f1_l1(F.relu(self.bn_f1_l1(self.conv_f1_l1(x1))))\n",
    "        x1 = F.relu(self.bn_f1_l2(self.conv_f1_l2(x1)))\n",
    "\n",
    "        x2 = self.pool_f2_l1(F.relu(self.bn_f2_l1(self.conv_f2_l1(x2))))\n",
    "        x2 = F.relu(self.bn_f2_l2(self.conv_f2_l2(x2)))\n",
    "\n",
    "        x1 = x1.view(-1, 18 * 8)\n",
    "        x2 = x2.view(-1, 24 * 8)\n",
    "\n",
    "        x1 = F.relu(self.bn_fc_f1(self.fc_f1_l1(x1)))\n",
    "        x2 = F.relu(self.bn_fc_f2(self.fc_f2_l1(x2)))\n",
    "\n",
    "        x1 = self.dropout_f1(x1)\n",
    "        x2 = self.dropout_f2(x2)\n",
    "\n",
    "        x = torch.cat((x1, x2, x2_s), dim=1)\n",
    "        \n",
    "        x = F.relu(self.bn_fc_l1(self.fc_l1(x)))\n",
    "        \n",
    "        x = F.sigmoid(self.fc_l2(x))\n",
    "\n",
    "        return x.squeeze(-1)"
   ],
   "metadata": {
    "collapsed": false,
    "ExecuteTime": {
     "end_time": "2023-11-17T22:44:56.454833Z",
     "start_time": "2023-11-17T22:44:56.451845Z"
    }
   },
   "id": "initial_id"
  },
  {
   "cell_type": "code",
   "execution_count": 145,
   "outputs": [],
   "source": [
    "model = CNN().to(\"mps\")\n",
    "criterion = nn.CrossEntropyLoss().to(\"mps\")\n",
    "optimizer = optim.Adam(model.parameters(), lr=0.0003)\n",
    "\n",
    "train_losses_epoch = []\n",
    "val_losses_epoch = []\n",
    "accuracies_epoch = []\n",
    "epochs = []\n",
    "\n",
    "val_labels = []\n",
    "val_predictions = []\n",
    "val_directories = []\n",
    "\n",
    "num_epochs = 10\n",
    "prob_threshold = 0.5"
   ],
   "metadata": {
    "collapsed": false,
    "ExecuteTime": {
     "end_time": "2023-11-17T22:46:00.196364Z",
     "start_time": "2023-11-17T22:46:00.180773Z"
    }
   },
   "id": "96aedbcb099f7726"
  },
  {
   "cell_type": "code",
   "execution_count": 146,
   "outputs": [
    {
     "name": "stdout",
     "output_type": "stream",
     "text": [
      "epoch 1/10, train_loss: 34.3259, val_loss: 33.0250, val_accu: 91.31%\n",
      "epoch 2/10, train_loss: 33.0256, val_loss: 32.5975, val_accu: 93.83%\n",
      "epoch 3/10, train_loss: 32.7348, val_loss: 32.0818, val_accu: 94.63%\n",
      "epoch 4/10, train_loss: 32.4787, val_loss: 32.0778, val_accu: 94.51%\n",
      "epoch 5/10, train_loss: 32.3973, val_loss: 31.8563, val_accu: 95.09%\n",
      "epoch 6/10, train_loss: 32.3636, val_loss: 32.0658, val_accu: 94.97%\n",
      "epoch 7/10, train_loss: 32.2356, val_loss: 32.1186, val_accu: 95.31%\n",
      "epoch 8/10, train_loss: 32.2027, val_loss: 31.9336, val_accu: 95.43%\n",
      "epoch 9/10, train_loss: 32.1205, val_loss: 31.8318, val_accu: 95.54%\n",
      "epoch 10/10, train_loss: 32.0946, val_loss: 32.0122, val_accu: 96.11%\n"
     ]
    }
   ],
   "source": [
    "for epoch in range(num_epochs):\n",
    "    losses = []\n",
    "    sizes = []\n",
    "    \n",
    "    model.train()\n",
    "    for x1, x2, y0, _ in train_dataloader:\n",
    "                \n",
    "        x1 = x1.to_dense().float().to(\"mps\")\n",
    "        x2 = x2.to_dense().float().to(\"mps\")\n",
    "        y0 = y0.float().to(\"mps\")\n",
    "        \n",
    "        optimizer.zero_grad()\n",
    "        yh = model(x1, x2)\n",
    "        loss = criterion(yh, y0)\n",
    "        loss.backward()\n",
    "        optimizer.step()\n",
    "        \n",
    "        losses.append(loss.item())\n",
    "        sizes.append(len(y0))\n",
    "        \n",
    "    train_loss = np.average(losses, weights=sizes)\n",
    "\n",
    "    losses = []\n",
    "    sizes = []\n",
    "    accuracies = []\n",
    "    \n",
    "    model.eval()\n",
    "    with torch.no_grad():\n",
    "        for x1, x2, y0, dir in val_dataloader:\n",
    "                  \n",
    "            x1 = x1.to_dense().float().to(\"mps\")\n",
    "            x2 = x2.to_dense().float().to(\"mps\")\n",
    "            y0 = y0.float().to(\"mps\")\n",
    "        \n",
    "            yh = model(x1,x2)\n",
    "            loss = criterion(yh, y0)\n",
    "            \n",
    "            yp = (yh > prob_threshold).int()\n",
    "            \n",
    "            accu = torch.sum((yp == y0).float())/len(y0)\n",
    "            \n",
    "            losses.append(loss.item())\n",
    "            accuracies.append(accu.item())\n",
    "            sizes.append(len(y0))\n",
    "            \n",
    "            if epoch + 1 == num_epochs:\n",
    "                val_labels = val_labels + y0.int().to(\"cpu\").numpy().tolist()\n",
    "                val_predictions = val_predictions + yp.to(\"cpu\").numpy().tolist()\n",
    "                val_directories = val_directories + list(dir)\n",
    "            \n",
    "        val_loss = np.average(losses, weights=sizes)\n",
    "        val_accu = np.average(accuracies, weights=sizes)\n",
    "    \n",
    "    train_losses_epoch.append(train_loss)\n",
    "    val_losses_epoch.append(val_loss)\n",
    "    accuracies_epoch.append(val_accu)\n",
    "    epochs.append(epoch + 1)\n",
    "    \n",
    "    print(f'epoch {epoch + 1}/{num_epochs}, train_loss: {train_loss.item():.4f}, val_loss: {val_loss:.4f}, val_accu: {val_accu * 100:.2f}%')"
   ],
   "metadata": {
    "collapsed": false,
    "ExecuteTime": {
     "end_time": "2023-11-17T22:48:07.046008Z",
     "start_time": "2023-11-17T22:46:00.624820Z"
    }
   },
   "id": "8039120afc63c90f"
  },
  {
   "cell_type": "code",
   "execution_count": 147,
   "outputs": [
    {
     "data": {
      "text/plain": "<Figure size 500x200 with 1 Axes>",
      "image/png": "[encoded data removed]"
     },
     "metadata": {},
     "output_type": "display_data"
    },
    {
     "data": {
      "text/plain": "<Figure size 500x200 with 1 Axes>",
      "image/png": "[encoded data removed]"
     },
     "metadata": {},
     "output_type": "display_data"
    }
   ],
   "source": [
    "plt.figure(figsize=(5, 2))\n",
    "plt.plot(epochs, train_losses_epoch, label='train_loss')\n",
    "plt.plot(epochs, val_losses_epoch, label='val_loss')\n",
    "plt.legend()\n",
    "plt.grid(True)\n",
    "plt.show()\n",
    "\n",
    "plt.figure(figsize=(5, 2))\n",
    "plt.plot(epochs, accuracies_epoch, label='accuracy')\n",
    "plt.legend()\n",
    "plt.grid(True)\n",
    "plt.show()"
   ],
   "metadata": {
    "collapsed": false,
    "ExecuteTime": {
     "end_time": "2023-11-17T22:48:07.187357Z",
     "start_time": "2023-11-17T22:48:07.059208Z"
    }
   },
   "id": "533cb2df0733890c"
  },
  {
   "cell_type": "code",
   "execution_count": 154,
   "outputs": [
    {
     "name": "stdout",
     "output_type": "stream",
     "text": [
      "(array([  6,  21,  52,  58, 115, 154, 185, 214, 242, 243, 322, 402, 406,\n",
      "       451, 500, 547, 553, 554, 565, 595, 598, 612, 713, 730, 741, 751,\n",
      "       776, 789, 830, 831, 832, 853, 863, 867]),)\n"
     ]
    },
    {
     "data": {
      "text/plain": "     label  prediction                    directory  correct\n0        0           0  LC500_TAGACTGTCTCTATCALC500     True\n1        0           0  LC500_ATTGTGGCAGGTGGTALC500     True\n2        0           0  LC500_CTCGCTAGTTGAAGCGLC500     True\n3        0           0  LC500_TATTGCTCATTGAACCLC500     True\n4        0           0  LC500_CCTTAATAGGCACTAGLC500     True\n..     ...         ...                          ...      ...\n870      0           0  LC500_TAGGAGGTCAGGGTTTLC500     True\n871      0           0  LC500_GATCATGTCCACCTACLC500     True\n872      1           1  LC499_GGTCATACAACGACAGLC499     True\n873      0           0  LC500_TTGACGATCGGAGTTTLC500     True\n874      1           1  LC499_ATGGATCTCAACTTGGLC499     True\n\n[875 rows x 4 columns]",
      "text/html": "<div>\n<style scoped>\n    .dataframe tbody tr th:only-of-type {\n        vertical-align: middle;\n    }\n\n    .dataframe tbody tr th {\n        vertical-align: top;\n    }\n\n    .dataframe thead th {\n        text-align: right;\n    }\n</style>\n<table border=\"1\" class=\"dataframe\">\n  <thead>\n    <tr style=\"text-align: right;\">\n      <th></th>\n      <th>label</th>\n      <th>prediction</th>\n      <th>directory</th>\n      <th>correct</th>\n    </tr>\n  </thead>\n  <tbody>\n    <tr>\n      <th>0</th>\n      <td>0</td>\n      <td>0</td>\n      <td>LC500_TAGACTGTCTCTATCALC500</td>\n      <td>True</td>\n    </tr>\n    <tr>\n      <th>1</th>\n      <td>0</td>\n      <td>0</td>\n      <td>LC500_ATTGTGGCAGGTGGTALC500</td>\n      <td>True</td>\n    </tr>\n    <tr>\n      <th>2</th>\n      <td>0</td>\n      <td>0</td>\n      <td>LC500_CTCGCTAGTTGAAGCGLC500</td>\n      <td>True</td>\n    </tr>\n    <tr>\n      <th>3</th>\n      <td>0</td>\n      <td>0</td>\n      <td>LC500_TATTGCTCATTGAACCLC500</td>\n      <td>True</td>\n    </tr>\n    <tr>\n      <th>4</th>\n      <td>0</td>\n      <td>0</td>\n      <td>LC500_CCTTAATAGGCACTAGLC500</td>\n      <td>True</td>\n    </tr>\n    <tr>\n      <th>...</th>\n      <td>...</td>\n      <td>...</td>\n      <td>...</td>\n      <td>...</td>\n    </tr>\n    <tr>\n      <th>870</th>\n      <td>0</td>\n      <td>0</td>\n      <td>LC500_TAGGAGGTCAGGGTTTLC500</td>\n      <td>True</td>\n    </tr>\n    <tr>\n      <th>871</th>\n      <td>0</td>\n      <td>0</td>\n      <td>LC500_GATCATGTCCACCTACLC500</td>\n      <td>True</td>\n    </tr>\n    <tr>\n      <th>872</th>\n      <td>1</td>\n      <td>1</td>\n      <td>LC499_GGTCATACAACGACAGLC499</td>\n      <td>True</td>\n    </tr>\n    <tr>\n      <th>873</th>\n      <td>0</td>\n      <td>0</td>\n      <td>LC500_TTGACGATCGGAGTTTLC500</td>\n      <td>True</td>\n    </tr>\n    <tr>\n      <th>874</th>\n      <td>1</td>\n      <td>1</td>\n      <td>LC499_ATGGATCTCAACTTGGLC499</td>\n      <td>True</td>\n    </tr>\n  </tbody>\n</table>\n<p>875 rows × 4 columns</p>\n</div>"
     },
     "execution_count": 154,
     "metadata": {},
     "output_type": "execute_result"
    }
   ],
   "source": [
    "pred_summary = pd.DataFrame({\"label\": val_labels, \"prediction\": val_predictions, \"directory\": val_directories})\n",
    "pred_summary[\"correct\"] = pred_summary[\"label\"] == pred_summary[\"prediction\"]\n",
    "print(np.where(pred_summary[\"label\"] != pred_summary[\"prediction\"]))\n",
    "pred_summary"
   ],
   "metadata": {
    "collapsed": false,
    "ExecuteTime": {
     "end_time": "2023-11-17T22:51:47.055981Z",
     "start_time": "2023-11-17T22:51:47.049796Z"
    }
   },
   "id": "c7fa6217eab6861c"
  },
  {
   "cell_type": "code",
   "execution_count": 162,
   "outputs": [
    {
     "name": "stdout",
     "output_type": "stream",
     "text": [
      "Accuracy: 0.96\n",
      "Precision: 0.95\n",
      "Sensitivity: 0.93\n",
      "Specificity: 0.98\n",
      "F1 Score: 0.94\n"
     ]
    },
    {
     "data": {
      "text/plain": "               Predicted Negative  Predicted Positive\nTrue Negative                 567                  14\nTrue Positive                  20                 274",
      "text/html": "<div>\n<style scoped>\n    .dataframe tbody tr th:only-of-type {\n        vertical-align: middle;\n    }\n\n    .dataframe tbody tr th {\n        vertical-align: top;\n    }\n\n    .dataframe thead th {\n        text-align: right;\n    }\n</style>\n<table border=\"1\" class=\"dataframe\">\n  <thead>\n    <tr style=\"text-align: right;\">\n      <th></th>\n      <th>Predicted Negative</th>\n      <th>Predicted Positive</th>\n    </tr>\n  </thead>\n  <tbody>\n    <tr>\n      <th>True Negative</th>\n      <td>567</td>\n      <td>14</td>\n    </tr>\n    <tr>\n      <th>True Positive</th>\n      <td>20</td>\n      <td>274</td>\n    </tr>\n  </tbody>\n</table>\n</div>"
     },
     "execution_count": 162,
     "metadata": {},
     "output_type": "execute_result"
    }
   ],
   "source": [
    "conf_matrix = confusion_matrix(pred_summary[\"label\"], pred_summary[\"prediction\"])\n",
    "tp, tn, fp, fn = conf_matrix[1, 1], conf_matrix[0, 0], conf_matrix[0, 1], conf_matrix[1, 0]\n",
    "\n",
    "accuracy = accuracy_score(pred_summary[\"label\"], pred_summary[\"prediction\"])\n",
    "precision = precision_score(pred_summary[\"label\"], pred_summary[\"prediction\"])\n",
    "recall = recall_score(pred_summary[\"label\"], pred_summary[\"prediction\"])\n",
    "f1 = f1_score(pred_summary[\"label\"], pred_summary[\"prediction\"])\n",
    "specificity = tn / (tn + fp)\n",
    "\n",
    "print(f\"Accuracy: {accuracy:.2f}\")\n",
    "print(f\"Precision: {precision:.2f}\")\n",
    "print(f\"Sensitivity: {recall:.2f}\")\n",
    "print(f\"Specificity: {specificity:.2f}\")\n",
    "print(f\"F1 Score: {f1:.2f}\")\n",
    "pd.DataFrame(conf_matrix, index=[\"True Negative\", \"True Positive\"], columns=[\"Predicted Negative\", \"Predicted Positive\"])"
   ],
   "metadata": {
    "collapsed": false,
    "ExecuteTime": {
     "end_time": "2023-11-17T22:56:00.660514Z",
     "start_time": "2023-11-17T22:56:00.651769Z"
    }
   },
   "id": "bfcb4397913f748a"
  },
  {
   "cell_type": "code",
   "execution_count": null,
   "outputs": [],
   "source": [],
   "metadata": {
    "collapsed": false
   },
   "id": "9a0f57fc95c508ab"
  }
 ],
 "metadata": {
  "kernelspec": {
   "display_name": "Python 3",
   "language": "python",
   "name": "python3"
  },
  "language_info": {
   "codemirror_mode": {
    "name": "ipython",
    "version": 2
   },
   "file_extension": ".py",
   "mimetype": "text/x-python",
   "name": "python",
   "nbconvert_exporter": "python",
   "pygments_lexer": "ipython2",
   "version": "2.7.6"
  }
 },
 "nbformat": 4,
 "nbformat_minor": 5
}
