{
 "cells": [
  {
   "cell_type": "markdown",
   "source": [
    "### Initialize"
   ],
   "metadata": {
    "collapsed": false
   },
   "id": "f6c67a21f7eab8f8"
  },
  {
   "cell_type": "code",
   "execution_count": 1,
   "outputs": [],
   "source": [
    "import os\n",
    "import random\n",
    "\n",
    "import matplotlib.pyplot as plt\n",
    "import numpy as np\n",
    "import pandas as pd\n",
    "import seaborn as sns\n",
    "import torch\n",
    "import torch.nn as nn\n",
    "import torch.nn.functional as F\n",
    "import torch.optim as optim\n",
    "from adjustText import adjust_text\n",
    "from scipy.sparse import coo_matrix\n",
    "from sklearn.metrics import confusion_matrix, accuracy_score, precision_score, recall_score, f1_score, roc_curve, auc\n",
    "from torch.utils.data import Dataset, DataLoader\n",
    "\n",
    "import pygini\n",
    "\n",
    "random.seed(42)\n",
    "torch.manual_seed(42)\n",
    "torch.mps.manual_seed(42)"
   ],
   "metadata": {
    "collapsed": false,
    "ExecuteTime": {
     "end_time": "2024-01-12T06:10:37.120990Z",
     "start_time": "2024-01-12T06:10:35.909302Z"
    }
   },
   "id": "217d5a5b93068781"
  },
  {
   "cell_type": "code",
   "execution_count": 2,
   "outputs": [],
   "source": [
    "chr_index = pd.read_csv(\"index.csv\", header=0)\n",
    "pos_coord_egfr = np.where(chr_index[\"loc\"] == \"chr7_55000000\")[0][0]\n",
    "pos_coord_myc = np.where(chr_index[\"loc\"] == \"chr8_127000000\")[0][0]\n",
    "\n",
    "window_0 = 5\n",
    "window_1 = 5\n",
    "\n",
    "chr_size = [249, 243, 199, 191, 182, 171, 160, 146, 139, 134, 136, 134, 115, 108, 102, 91, 84, 81, 59, 65, 47, 51, 157]"
   ],
   "metadata": {
    "collapsed": false,
    "ExecuteTime": {
     "end_time": "2024-01-12T06:10:37.131767Z",
     "start_time": "2024-01-12T06:10:37.121061Z"
    }
   },
   "id": "a7a80d0daa66e993"
  },
  {
   "cell_type": "code",
   "execution_count": 3,
   "outputs": [],
   "source": [
    "def read_mtx(path, index):\n",
    "    contact_mat = pd.read_csv(path, sep=\"\\t\", header=0)\n",
    "    contact_mat = contact_mat[(contact_mat[\"chrom1\"] != \"chrY\") & (contact_mat[\"chrom2\"] != \"chrY\")]\n",
    "    contact_mat = pd.concat([contact_mat[\"chrom1\"] + \"_\" + contact_mat[\"start1\"].astype(str),\n",
    "                             contact_mat[\"chrom2\"] + \"_\" + contact_mat[\"start2\"].astype(str), contact_mat[\"count\"]],\n",
    "                            axis=1)\n",
    "    contact_mat.columns = [\"loc1\", \"loc2\", \"count\"]\n",
    "    contact_mat = pd.merge(contact_mat, index, left_on=\"loc1\", right_on=\"loc\", how=\"left\").drop([\"loc\", \"loc1\"], axis=1)\n",
    "    contact_mat = contact_mat.rename(columns={contact_mat.columns[2]: \"index1\"})\n",
    "    contact_mat = pd.merge(contact_mat, index, left_on=\"loc2\", right_on=\"loc\", how=\"left\").drop([\"loc\", \"loc2\"], axis=1)\n",
    "    contact_mat = contact_mat.rename(columns={contact_mat.columns[2]: \"index2\"})\n",
    "    contact_mat = coo_matrix((contact_mat['count'], (contact_mat['index1'], contact_mat['index2'])),\n",
    "                             shape=(index.shape[0], index.shape[0]))\n",
    "    contact_mat = contact_mat.toarray()\n",
    "\n",
    "    return contact_mat"
   ],
   "metadata": {
    "collapsed": false,
    "ExecuteTime": {
     "end_time": "2024-01-12T06:10:37.135413Z",
     "start_time": "2024-01-12T06:10:37.130685Z"
    }
   },
   "id": "64486450f83ce90"
  },
  {
   "cell_type": "code",
   "execution_count": 4,
   "outputs": [],
   "source": [
    "def prep_data(sample, coord, index, is_pos, win0):\n",
    "    matrices_f2 = []\n",
    "    bcs = []\n",
    "\n",
    "    directories = sorted(\n",
    "        [d for d in os.listdir(\"data/raw/\" + sample) if os.path.isdir(os.path.join(\"data/raw/\" + sample, d))])\n",
    "    for directory in directories:\n",
    "\n",
    "        if not os.path.exists(\"data/raw/\" + sample + \"/\" + directory + \"/1000000.CNV.bedGraph\"):\n",
    "            continue\n",
    "\n",
    "        try:\n",
    "            mtx = read_mtx(\"data/raw/\" + sample + \"/\" + directory + \"/matrix.mtx\", index)\n",
    "        except:\n",
    "            continue\n",
    "\n",
    "        mtx_f2 = mtx[(coord - int((win0 + 1) / 2) + 1):(coord + int((win0 + 1) / 2)), :]\n",
    "\n",
    "        stacked_mtx_f2 = torch.from_numpy(mtx_f2).to_sparse_coo()\n",
    "\n",
    "        matrices_f2.append(stacked_mtx_f2)\n",
    "        bcs = bcs + [directory]\n",
    "\n",
    "    input = torch.stack(matrices_f2, dim=0)\n",
    "\n",
    "    if is_pos:\n",
    "        label = torch.from_numpy(np.ones(input.shape[0])).int()\n",
    "    else:\n",
    "        label = torch.from_numpy(np.zeros(input.shape[0])).int()\n",
    "\n",
    "    return input, label, bcs"
   ],
   "metadata": {
    "collapsed": false,
    "ExecuteTime": {
     "end_time": "2024-01-12T06:10:37.145082Z",
     "start_time": "2024-01-12T06:10:37.134600Z"
    }
   },
   "id": "b5fd2c4497cd6bf7"
  },
  {
   "cell_type": "markdown",
   "source": [
    "### Prepare data"
   ],
   "metadata": {
    "collapsed": false
   },
   "id": "ac8e3d2a44337f05"
  },
  {
   "cell_type": "code",
   "execution_count": 5,
   "outputs": [],
   "source": [
    "orig_index = pd.read_csv(\"data/raw/LC675/LC675_TTTGGTTGTTGGCGAA/1000000.CNV.bedGraph\", sep=\"\\t\", header=None).iloc[:,0:3]\n",
    "\n",
    "orig_index.columns = [\"chrom\", \"start\", \"end\"]\n",
    "orig_index = orig_index[orig_index[\"chrom\"] != \"chrY\"]\n",
    "orig_index = orig_index[\"chrom\"] + \"_\" + orig_index[\"start\"].astype(str)\n",
    "orig_index = pd.concat([orig_index, pd.DataFrame(np.arange(orig_index.shape[0]))], axis=1)\n",
    "orig_index.columns = [\"loc\", \"index\"]\n",
    "\n",
    "orig_index.to_csv(\"index.csv\", index=False)"
   ],
   "metadata": {
    "collapsed": false,
    "ExecuteTime": {
     "end_time": "2023-12-28T07:34:50.316171Z",
     "start_time": "2023-12-28T07:34:50.284830Z"
    }
   },
   "id": "6eddd3e384f10d5f"
  },
  {
   "cell_type": "code",
   "execution_count": null,
   "outputs": [],
   "source": [
    "pos_data, pos_label, pos_bcs = prep_data(\"LC499\", pos_coord_egfr, chr_index, True, window_0)\n",
    "neg_data, neg_label, neg_bcs = prep_data(\"LC500\", pos_coord_egfr, chr_index, False, window_0)\n",
    "\n",
    "input_all = torch.cat((pos_data, neg_data), dim=0).unsqueeze(1)\n",
    "label = torch.cat((pos_label, neg_label), dim=0)\n",
    "barcode = pos_bcs + neg_bcs"
   ],
   "metadata": {
    "collapsed": false,
    "ExecuteTime": {
     "start_time": "2023-12-21T04:04:44.609457Z"
    }
   },
   "id": "74cfdb30057556c5"
  },
  {
   "cell_type": "code",
   "execution_count": null,
   "outputs": [],
   "source": [
    "torch.save(input_all, \"data/processed/input_499500.npy\")\n",
    "torch.save(label, \"data/processed/label_499500.npy\")\n",
    "torch.save(barcode, \"data/processed/barcodes_499500.npy\")"
   ],
   "metadata": {
    "collapsed": false
   },
   "id": "ab0d8ee1eb3ddacb"
  },
  {
   "cell_type": "code",
   "execution_count": null,
   "outputs": [],
   "source": [
    "val_split = 0.1\n",
    "\n",
    "len_indices = len(input_all)\n",
    "all_indices = list(range(len_indices))\n",
    "random.shuffle(all_indices)\n",
    "num_val = int(np.floor(val_split * len_indices))\n",
    "\n",
    "val_indices = torch.tensor(all_indices[:num_val])\n",
    "train_indices = torch.tensor(all_indices[num_val:])\n",
    "\n",
    "input_train = torch.index_select(input_all, 0, train_indices)\n",
    "label_train = torch.index_select(label, 0, train_indices)\n",
    "bcs_train = [barcode[i] for i in train_indices]\n",
    "\n",
    "input_val = torch.index_select(input_all, 0, val_indices)\n",
    "label_val = torch.index_select(label, 0, val_indices)\n",
    "bcs_val = [barcode[i] for i in val_indices]\n",
    "\n",
    "pd.DataFrame(bcs_val).to_csv(\"data/processed/barcode_val_499500.txt\", index=False, header=False)"
   ],
   "metadata": {
    "collapsed": false
   },
   "id": "47581338eca87713"
  },
  {
   "cell_type": "code",
   "execution_count": null,
   "outputs": [],
   "source": [
    "pos_data, pos_label, pos_bcs = prep_data(\"LC676\", pos_coord_myc, chr_index, True, window_0)\n",
    "neg_data, neg_label, neg_bcs = prep_data(\"LC677\", pos_coord_myc, chr_index, False, window_0)\n",
    "\n",
    "input_all = torch.cat((pos_data, neg_data), dim=0).unsqueeze(1)\n",
    "label = torch.cat((pos_label, neg_label), dim=0)\n",
    "barcode = pos_bcs + neg_bcs"
   ],
   "metadata": {
    "collapsed": false
   },
   "id": "42f2c2fc7865a4cc"
  },
  {
   "cell_type": "code",
   "execution_count": null,
   "outputs": [],
   "source": [
    "torch.save(input_all, \"data/processed/input_676677.npy\")\n",
    "torch.save(label, \"data/processed/label_676677.npy\")\n",
    "torch.save(barcode, \"data/processed/barcode_676677.npy\")"
   ],
   "metadata": {
    "collapsed": false
   },
   "id": "3a57091ace00edd9"
  },
  {
   "cell_type": "code",
   "execution_count": null,
   "outputs": [],
   "source": [
    "val_split = 0.1\n",
    "\n",
    "len_indices = len(input_all)\n",
    "all_indices = list(range(len_indices))\n",
    "random.shuffle(all_indices)\n",
    "num_val = int(np.floor(val_split * len_indices))\n",
    "\n",
    "val_indices = torch.tensor(all_indices[:num_val])\n",
    "train_indices = torch.tensor(all_indices[num_val:])\n",
    "\n",
    "input_train = torch.index_select(input_all, 0, train_indices)\n",
    "label_train = torch.index_select(label, 0, train_indices)\n",
    "bcs_train = [barcode[i] for i in train_indices]\n",
    "\n",
    "input_val = torch.index_select(input_all, 0, val_indices)\n",
    "label_val = torch.index_select(label, 0, val_indices)\n",
    "bcs_val = [barcode[i] for i in val_indices]\n",
    "\n",
    "pd.DataFrame(bcs_val).to_csv(\"data/processed/barcode_val_676677.txt\", index=False, header=False)"
   ],
   "metadata": {
    "collapsed": false
   },
   "id": "cd067ab3a6a33e8c"
  },
  {
   "cell_type": "markdown",
   "source": [
    "### Define model"
   ],
   "metadata": {
    "collapsed": false
   },
   "id": "bda099a601d0af9d"
  },
  {
   "cell_type": "code",
   "execution_count": 5,
   "outputs": [],
   "source": [
    "input_499500 = torch.load(\"data/processed/input_499500.npy\").to_dense()\n",
    "label_499500 = torch.load(\"data/processed/label_499500.npy\")\n",
    "barcode_499500 = torch.load(\"data/processed/barcode_499500.npy\")\n",
    "\n",
    "input_676677 = torch.load(\"data/processed/input_676677.npy\").to_dense()\n",
    "label_676677 = torch.load(\"data/processed/label_676677.npy\")\n",
    "barcode_676677 = torch.load(\"data/processed/barcode_676677.npy\")"
   ],
   "metadata": {
    "collapsed": false,
    "ExecuteTime": {
     "end_time": "2024-01-12T06:10:45.894733Z",
     "start_time": "2024-01-12T06:10:44.971473Z"
    }
   },
   "id": "45dee9f1284c1e3a"
  },
  {
   "cell_type": "code",
   "execution_count": 6,
   "outputs": [],
   "source": [
    "coordinate_499500 = np.repeat(pos_coord_egfr, input_499500.shape[0]).tolist()\n",
    "coordinate_676677 = np.repeat(pos_coord_myc, input_676677.shape[0]).tolist()"
   ],
   "metadata": {
    "collapsed": false,
    "ExecuteTime": {
     "end_time": "2024-01-12T06:10:45.898889Z",
     "start_time": "2024-01-12T06:10:45.892724Z"
    }
   },
   "id": "49e3b52ef5b905e6"
  },
  {
   "cell_type": "code",
   "execution_count": 7,
   "outputs": [],
   "source": [
    "label_676677 = torch.where(label_676677 == 0, 2, label_676677) # Mark HSR samples as 2"
   ],
   "metadata": {
    "collapsed": false,
    "ExecuteTime": {
     "end_time": "2024-01-12T06:10:47.476207Z",
     "start_time": "2024-01-12T06:10:47.444734Z"
    }
   },
   "id": "fdf1aa1297b1a619"
  },
  {
   "cell_type": "code",
   "execution_count": null,
   "outputs": [],
   "source": [
    "# Use this block for ecDNA evaluation\n",
    "\n",
    "#input_all = input_499500\n",
    "#label = label_499500\n",
    "#barcode = barcode_499500\n",
    "#coordinate = coordinate_499500"
   ],
   "metadata": {
    "collapsed": false
   },
   "id": "4483e90091ce4706"
  },
  {
   "cell_type": "code",
   "execution_count": 8,
   "outputs": [],
   "source": [
    "barcode = barcode_499500 + barcode_676677\n",
    "coordinate = coordinate_499500 + coordinate_676677\n",
    "\n",
    "input_all = torch.cat((input_499500, input_676677), dim=0)\n",
    "label = torch.cat((label_499500, label_676677), dim=0)"
   ],
   "metadata": {
    "collapsed": false,
    "ExecuteTime": {
     "end_time": "2024-01-12T06:10:58.599612Z",
     "start_time": "2024-01-12T06:10:58.587695Z"
    }
   },
   "id": "756d2603f74779ab"
  },
  {
   "cell_type": "code",
   "execution_count": 9,
   "outputs": [],
   "source": [
    "validation_bcs_499500 = pd.read_table(\"data/processed/barcode_val_499500.txt\", header=None).iloc[:, 0].tolist()\n",
    "validation_bcs_676677 = pd.read_table(\"data/processed/barcode_val_676677.txt\",header=None).iloc[:,0].tolist()\n",
    "validation_bcs = validation_bcs_499500 + validation_bcs_676677\n",
    "\n",
    "validation_indices = torch.tensor([i for i in range(len(barcode)) if barcode[i] in validation_bcs])\n",
    "training_indices = torch.tensor([i for i in range(len(barcode)) if barcode[i] not in validation_bcs])"
   ],
   "metadata": {
    "collapsed": false,
    "ExecuteTime": {
     "end_time": "2024-01-12T06:11:01.759694Z",
     "start_time": "2024-01-12T06:11:01.588980Z"
    }
   },
   "id": "d22166403fe11ab1"
  },
  {
   "cell_type": "code",
   "execution_count": 10,
   "outputs": [],
   "source": [
    "input_train = torch.index_select(input_all, 0, training_indices)\n",
    "label_train = torch.index_select(label, 0, training_indices)\n",
    "barcode_train = [barcode[i] for i in training_indices]\n",
    "coordinate_train = [coordinate[i] for i in training_indices]\n",
    "\n",
    "input_val = torch.index_select(input_all, 0, validation_indices)\n",
    "label_val = torch.index_select(label, 0, validation_indices)\n",
    "barcode_val = [barcode[i] for i in validation_indices]\n",
    "coordinate_val = [coordinate[i] for i in validation_indices]"
   ],
   "metadata": {
    "collapsed": false,
    "ExecuteTime": {
     "end_time": "2024-01-12T06:11:02.934154Z",
     "start_time": "2024-01-12T06:11:02.271740Z"
    }
   },
   "id": "96bfc00841648a5c"
  },
  {
   "cell_type": "code",
   "execution_count": 11,
   "outputs": [],
   "source": [
    "class QuadDataset(Dataset):\n",
    "    def __init__(self, input, label, barcode, coord):\n",
    "        self.input = input\n",
    "        self.label = label\n",
    "        self.barcode = barcode\n",
    "        self.coord = coord\n",
    "\n",
    "    def __len__(self):\n",
    "        return len(self.input)\n",
    "\n",
    "    def __getitem__(self, index):\n",
    "        input_s = self.input[index]\n",
    "        bc_s = self.barcode[index]\n",
    "        coord_s = self.coord[index]\n",
    "        \n",
    "        label_s = torch.eye(3)[self.label[index].detach().numpy()] # Negative, ecDNA, HSR\n",
    "\n",
    "        return input_s, label_s, bc_s, coord_s"
   ],
   "metadata": {
    "collapsed": false,
    "ExecuteTime": {
     "end_time": "2024-01-12T06:11:03.424362Z",
     "start_time": "2024-01-12T06:11:03.410645Z"
    }
   },
   "id": "947e05b4501ce37c"
  },
  {
   "cell_type": "code",
   "execution_count": 12,
   "outputs": [],
   "source": [
    "batch_size = 32\n",
    "\n",
    "train_dataloader = DataLoader(QuadDataset(input_train, label_train, barcode_train, coordinate_train), batch_size=batch_size, shuffle=True)\n",
    "val_dataloader = DataLoader(QuadDataset(input_val, label_val, barcode_val, coordinate_val), batch_size=batch_size, shuffle=False)\n",
    "#test_dataloader1 = DataLoader(QuadDataset(input_676677, label_676677, barcode_676677, coordinate_676677), batch_size=batch_size, shuffle=False)\n",
    "#test_dataloader2 = DataLoader(QuadDataset(input_729730, label_729730, barcode_729730, coordinate_729730), batch_size=batch_size, shuffle=False)"
   ],
   "metadata": {
    "collapsed": false,
    "ExecuteTime": {
     "end_time": "2024-01-12T06:11:03.573459Z",
     "start_time": "2024-01-12T06:11:03.560786Z"
    }
   },
   "id": "6fbc97aad7de7a8d"
  },
  {
   "cell_type": "code",
   "execution_count": 13,
   "outputs": [],
   "source": [
    "def zi_pois_noise(shape, lambda_, p_zero):\n",
    "    uniform_noise = torch.rand(shape)\n",
    "\n",
    "    zero_mask = uniform_noise < p_zero\n",
    "\n",
    "    poisson_noise = torch.poisson(lambda_ * torch.ones(shape))\n",
    "\n",
    "    noise = poisson_noise * ~zero_mask\n",
    "\n",
    "    return noise"
   ],
   "metadata": {
    "collapsed": false,
    "ExecuteTime": {
     "end_time": "2024-01-12T06:11:03.719272Z",
     "start_time": "2024-01-12T06:11:03.707942Z"
    }
   },
   "id": "fd97d2d9436c1ee"
  },
  {
   "cell_type": "code",
   "execution_count": 14,
   "outputs": [],
   "source": [
    "class BootCELoss(nn.Module):\n",
    "    def __init__(self, alpha, bootstrap_type, pos_weight):\n",
    "        super(BootCELoss, self).__init__()\n",
    "        self.alpha = alpha\n",
    "        self.bootstrap_type = bootstrap_type\n",
    "        self.pos_weight = pos_weight\n",
    "\n",
    "    def forward(self, prediction_tensor, target_tensor):\n",
    "        if self.bootstrap_type == 'soft':\n",
    "            bootstrap_target_tensor = self.alpha * target_tensor + (1.0 - self.alpha) * prediction_tensor\n",
    "            \n",
    "        elif self.bootstrap_type == 'hard':\n",
    "            max_index = torch.argmax(prediction_tensor, dim=1)\n",
    "            prediction_tensor_binary = torch.zeros_like(prediction_tensor)\n",
    "            prediction_tensor_binary[max_index] = 1\n",
    "            \n",
    "            bootstrap_target_tensor = self.alpha * target_tensor + (1.0 - self.alpha) * (prediction_tensor_binary).float()\n",
    "        else:\n",
    "            raise ValueError('Not a valid value of bootstrap_type')\n",
    "\n",
    "        per_entry_cross_ent = F.cross_entropy(input=prediction_tensor,\n",
    "                                                                 target=bootstrap_target_tensor, reduction='mean',\n",
    "                                                                 weight=torch.Tensor(self.pos_weight).to(\"mps\"))\n",
    "\n",
    "        return per_entry_cross_ent"
   ],
   "metadata": {
    "collapsed": false,
    "ExecuteTime": {
     "end_time": "2024-01-12T06:11:03.898914Z",
     "start_time": "2024-01-12T06:11:03.860923Z"
    }
   },
   "id": "f27221b284cb6273"
  },
  {
   "cell_type": "code",
   "execution_count": 15,
   "outputs": [],
   "source": [
    "class CNN(nn.Module):\n",
    "    def __init__(self):\n",
    "        super(CNN, self).__init__()\n",
    "\n",
    "        self.conv_f2_l1 = nn.Conv2d(1, 8, kernel_size=(5, 45), stride=(1, 11), padding=(0, 2))\n",
    "        self.conv_f2_l2 = nn.Conv2d(8, 16, kernel_size=(1, 45), stride=(1, 4), padding=(0, 0))\n",
    "\n",
    "        self.bn_f2_l1 = nn.BatchNorm2d(8)\n",
    "        self.bn_f2_l2 = nn.BatchNorm2d(16)\n",
    "\n",
    "        self.bn_fc_l1 = nn.BatchNorm1d(64)\n",
    "\n",
    "        self.pool_f2_l1 = nn.MaxPool2d(kernel_size=(1, 2), stride=2, padding=0)\n",
    "        self.pool_f2_l2 = nn.MaxPool2d(kernel_size=(1, 2), stride=2, padding=0)\n",
    "\n",
    "        self.fc_l1 = nn.Linear(5 * 5 + 12 * 16 + 5 + 1, 64)\n",
    "        self.fc_l2 = nn.Linear(64, 3)\n",
    "\n",
    "        #self.dropout_f1 = nn.Dropout(0.5)\n",
    "        self.dropout_f2 = nn.Dropout(0.5)\n",
    "\n",
    "        self.dropout_fc = nn.Dropout(0.5)\n",
    "        \n",
    "        self.softmax = nn.Softmax(dim=1)\n",
    "\n",
    "    def forward(self, x2, coord):\n",
    "        #if self.training:\n",
    "        #    noise = zi_pois_noise(x2.shape, 1, 0.9999)  # test this\n",
    "        #    x2 = x2 + noise.float().to(\"mps\")\n",
    "\n",
    "        start_indices = coord - int((5 + 1) / 2) + 1\n",
    "        end_indices = coord + int((5 + 1) / 2)\n",
    "        \n",
    "        x2_chr = torch.split(x2[...,2,:], chr_size, dim=-1)\n",
    "        x2_c = torch.stack([torch.squeeze(torch.sum(st, dim=-1), dim=-1) for st in x2_chr], dim=-1)\n",
    "        \n",
    "        #chr = F.normalize(x2_c, dim=-1, p=1)\n",
    "        \n",
    "        gini = []\n",
    "        for i in range(x2_c.shape[0]):\n",
    "            gini.append(torch.tensor(pygini.gini(x2_c[i, :].cpu().numpy()),dtype=torch.float32))\n",
    "        gini = torch.unsqueeze(torch.stack(gini, dim=0).to(\"mps\"), dim=-1)\n",
    "        \n",
    "        d4_slices = []\n",
    "\n",
    "        for i in range(x2.size(0)):\n",
    "            d4_slices.append(x2[i, ..., start_indices[i]:end_indices[i]])\n",
    "\n",
    "        x1 = torch.stack(d4_slices, dim=0)\n",
    "\n",
    "        x1 = (x1 > 0).float()\n",
    "        x2 = (x2 > 0).float()\n",
    "\n",
    "        x2_s = F.normalize(torch.squeeze(torch.sum(x2, dim=-1), dim=1), dim=-1, p=1)\n",
    "\n",
    "        x2 = self.pool_f2_l1(F.relu(self.bn_f2_l1(self.conv_f2_l1(x2))))\n",
    "        x2 = self.dropout_f2(x2)\n",
    "        x2 = self.pool_f2_l2(F.relu(self.bn_f2_l2(self.conv_f2_l2(x2))))\n",
    "\n",
    "        x1 = x1.view(-1, 5 * 5)\n",
    "        x2 = x2.view(-1, 12 * 16)\n",
    "\n",
    "        #x = torch.cat((torch.zeros_like(x1), x2, x2_s, gini), dim=1)\n",
    "        #x = torch.cat((x1, torch.zeros_like(x2), x2_s, gini), dim=1)\n",
    "        #x = torch.cat((x1, x2, torch.zeros_like(x2_s), gini), dim=1)\n",
    "        #x = torch.cat((x1, x2, x2_s, torch.zeros_like(gini)), dim=1)\n",
    "        \n",
    "        x = torch.cat((x1, x2, x2_s, gini), dim=1)\n",
    "\n",
    "        x = self.dropout_fc(F.gelu(self.bn_fc_l1(self.fc_l1(x))))\n",
    "\n",
    "        x = self.softmax(self.fc_l2(x))\n",
    "\n",
    "        return x"
   ],
   "metadata": {
    "collapsed": false,
    "ExecuteTime": {
     "end_time": "2024-01-12T06:11:04.117391Z",
     "start_time": "2024-01-12T06:11:04.089189Z"
    }
   },
   "id": "initial_id"
  },
  {
   "cell_type": "code",
   "execution_count": 17,
   "outputs": [],
   "source": [
    "model = CNN().to(\"mps\")\n",
    "\n",
    "criterion = BootCELoss(alpha=0.99, bootstrap_type=\"hard\", pos_weight=[2.02,2.68/10,7.66/10]).to(\"mps\")\n",
    "\n",
    "optimizer = optim.AdamW(model.parameters(), lr=0.001, weight_decay=0.001)\n",
    "#scheduler = optim.lr_scheduler.ReduceLROnPlateau(optimizer, patience=5)\n",
    "\n",
    "train_losses_epoch = []\n",
    "val_losses_epoch = []\n",
    "\n",
    "accuracies_epoch = []\n",
    "precision_epoch = []\n",
    "sensitivity_epoch = []\n",
    "specificity_epoch = []\n",
    "f1_epoch = []\n",
    "\n",
    "epochs = []\n",
    "\n",
    "num_epochs = 40"
   ],
   "metadata": {
    "collapsed": false,
    "ExecuteTime": {
     "end_time": "2024-01-12T06:11:05.210929Z",
     "start_time": "2024-01-12T06:11:05.028114Z"
    }
   },
   "id": "96aedbcb099f7726"
  },
  {
   "cell_type": "markdown",
   "source": [
    "### Train model"
   ],
   "metadata": {
    "collapsed": false
   },
   "id": "62263db11f5a1720"
  },
  {
   "cell_type": "code",
   "execution_count": 19,
   "outputs": [
    {
     "name": "stdout",
     "output_type": "stream",
     "text": [
      "epoch 1/40, train_loss: 0.7638, val_loss: 0.6965, val_accu: 0.8426, val_prec: 0.8426, val_sens: 0.8426, val_spec: 0.9964, val_f1: 0.8426, log10lr: -3.0000\n",
      "epoch 2/40, train_loss: 0.7069, val_loss: 0.6918, val_accu: 0.8452, val_prec: 0.8452, val_sens: 0.8452, val_spec: 0.9964, val_f1: 0.8452, log10lr: -3.0000\n",
      "epoch 3/40, train_loss: 0.7003, val_loss: 0.6845, val_accu: 0.8691, val_prec: 0.8691, val_sens: 0.8691, val_spec: 0.9964, val_f1: 0.8691, log10lr: -3.0000\n",
      "epoch 4/40, train_loss: 0.6939, val_loss: 0.6735, val_accu: 0.9290, val_prec: 0.9290, val_sens: 0.9290, val_spec: 0.9929, val_f1: 0.9290, log10lr: -3.0000\n",
      "epoch 5/40, train_loss: 0.6909, val_loss: 0.6715, val_accu: 0.9213, val_prec: 0.9213, val_sens: 0.9213, val_spec: 0.9964, val_f1: 0.9213, log10lr: -3.0000\n",
      "epoch 6/40, train_loss: 0.6884, val_loss: 0.6728, val_accu: 0.9162, val_prec: 0.9162, val_sens: 0.9162, val_spec: 0.9964, val_f1: 0.9162, log10lr: -3.0000\n",
      "epoch 7/40, train_loss: 0.6885, val_loss: 0.6739, val_accu: 0.9110, val_prec: 0.9110, val_sens: 0.9110, val_spec: 0.9964, val_f1: 0.9110, log10lr: -3.0000\n",
      "epoch 8/40, train_loss: 0.6890, val_loss: 0.6687, val_accu: 0.9384, val_prec: 0.9384, val_sens: 0.9384, val_spec: 0.9964, val_f1: 0.9384, log10lr: -3.0000\n",
      "epoch 9/40, train_loss: 0.6854, val_loss: 0.6671, val_accu: 0.9435, val_prec: 0.9435, val_sens: 0.9435, val_spec: 0.9964, val_f1: 0.9435, log10lr: -3.0000\n",
      "epoch 10/40, train_loss: 0.6853, val_loss: 0.6731, val_accu: 0.9085, val_prec: 0.9085, val_sens: 0.9085, val_spec: 0.9964, val_f1: 0.9085, log10lr: -3.0000\n",
      "epoch 11/40, train_loss: 0.6852, val_loss: 0.6729, val_accu: 0.9119, val_prec: 0.9119, val_sens: 0.9119, val_spec: 0.9964, val_f1: 0.9119, log10lr: -3.0000\n",
      "epoch 12/40, train_loss: 0.6834, val_loss: 0.6696, val_accu: 0.9299, val_prec: 0.9299, val_sens: 0.9299, val_spec: 0.9947, val_f1: 0.9299, log10lr: -3.0000\n",
      "epoch 13/40, train_loss: 0.6825, val_loss: 0.6676, val_accu: 0.9444, val_prec: 0.9444, val_sens: 0.9444, val_spec: 0.9947, val_f1: 0.9444, log10lr: -3.0000\n",
      "epoch 14/40, train_loss: 0.6842, val_loss: 0.6662, val_accu: 0.9547, val_prec: 0.9547, val_sens: 0.9547, val_spec: 0.9929, val_f1: 0.9547, log10lr: -3.0000\n",
      "epoch 15/40, train_loss: 0.6826, val_loss: 0.6683, val_accu: 0.9367, val_prec: 0.9367, val_sens: 0.9367, val_spec: 0.9947, val_f1: 0.9367, log10lr: -3.0000\n",
      "epoch 16/40, train_loss: 0.6821, val_loss: 0.6680, val_accu: 0.9376, val_prec: 0.9376, val_sens: 0.9376, val_spec: 0.9964, val_f1: 0.9376, log10lr: -3.0000\n",
      "epoch 17/40, train_loss: 0.6833, val_loss: 0.6645, val_accu: 0.9547, val_prec: 0.9547, val_sens: 0.9547, val_spec: 0.9947, val_f1: 0.9547, log10lr: -3.0000\n",
      "epoch 18/40, train_loss: 0.6807, val_loss: 0.6663, val_accu: 0.9461, val_prec: 0.9461, val_sens: 0.9461, val_spec: 0.9947, val_f1: 0.9461, log10lr: -3.0000\n",
      "epoch 19/40, train_loss: 0.6801, val_loss: 0.6638, val_accu: 0.9615, val_prec: 0.9615, val_sens: 0.9615, val_spec: 0.9947, val_f1: 0.9615, log10lr: -3.0000\n",
      "epoch 20/40, train_loss: 0.6797, val_loss: 0.6668, val_accu: 0.9530, val_prec: 0.9530, val_sens: 0.9530, val_spec: 0.9911, val_f1: 0.9530, log10lr: -3.0000\n",
      "epoch 21/40, train_loss: 0.6817, val_loss: 0.6643, val_accu: 0.9435, val_prec: 0.9435, val_sens: 0.9435, val_spec: 0.9982, val_f1: 0.9435, log10lr: -3.0000\n",
      "epoch 22/40, train_loss: 0.6802, val_loss: 0.6635, val_accu: 0.9530, val_prec: 0.9530, val_sens: 0.9530, val_spec: 0.9947, val_f1: 0.9530, log10lr: -3.0000\n",
      "epoch 23/40, train_loss: 0.6797, val_loss: 0.6641, val_accu: 0.9512, val_prec: 0.9512, val_sens: 0.9512, val_spec: 0.9964, val_f1: 0.9512, log10lr: -3.0000\n",
      "epoch 24/40, train_loss: 0.6797, val_loss: 0.6635, val_accu: 0.9504, val_prec: 0.9504, val_sens: 0.9504, val_spec: 0.9964, val_f1: 0.9504, log10lr: -3.0000\n",
      "epoch 25/40, train_loss: 0.6790, val_loss: 0.6639, val_accu: 0.9649, val_prec: 0.9649, val_sens: 0.9649, val_spec: 0.9911, val_f1: 0.9649, log10lr: -3.0000\n",
      "epoch 26/40, train_loss: 0.6813, val_loss: 0.6649, val_accu: 0.9461, val_prec: 0.9461, val_sens: 0.9461, val_spec: 0.9964, val_f1: 0.9461, log10lr: -3.0000\n",
      "epoch 27/40, train_loss: 0.6795, val_loss: 0.6634, val_accu: 0.9555, val_prec: 0.9555, val_sens: 0.9555, val_spec: 0.9929, val_f1: 0.9555, log10lr: -3.0000\n",
      "epoch 28/40, train_loss: 0.6799, val_loss: 0.6634, val_accu: 0.9547, val_prec: 0.9547, val_sens: 0.9547, val_spec: 0.9947, val_f1: 0.9547, log10lr: -3.0000\n",
      "epoch 29/40, train_loss: 0.6787, val_loss: 0.6633, val_accu: 0.9538, val_prec: 0.9538, val_sens: 0.9538, val_spec: 0.9947, val_f1: 0.9538, log10lr: -3.0000\n",
      "epoch 30/40, train_loss: 0.6797, val_loss: 0.6683, val_accu: 0.9281, val_prec: 0.9281, val_sens: 0.9281, val_spec: 0.9964, val_f1: 0.9281, log10lr: -3.0000\n",
      "epoch 31/40, train_loss: 0.6776, val_loss: 0.6634, val_accu: 0.9495, val_prec: 0.9495, val_sens: 0.9495, val_spec: 0.9964, val_f1: 0.9495, log10lr: -3.0000\n",
      "epoch 32/40, train_loss: 0.6775, val_loss: 0.6626, val_accu: 0.9530, val_prec: 0.9530, val_sens: 0.9530, val_spec: 0.9947, val_f1: 0.9530, log10lr: -3.0000\n",
      "epoch 33/40, train_loss: 0.6782, val_loss: 0.6651, val_accu: 0.9555, val_prec: 0.9555, val_sens: 0.9555, val_spec: 0.9929, val_f1: 0.9555, log10lr: -3.0000\n",
      "epoch 34/40, train_loss: 0.6784, val_loss: 0.6645, val_accu: 0.9564, val_prec: 0.9564, val_sens: 0.9564, val_spec: 0.9911, val_f1: 0.9564, log10lr: -3.0000\n",
      "epoch 35/40, train_loss: 0.6779, val_loss: 0.6647, val_accu: 0.9555, val_prec: 0.9555, val_sens: 0.9555, val_spec: 0.9947, val_f1: 0.9555, log10lr: -3.0000\n",
      "epoch 36/40, train_loss: 0.6764, val_loss: 0.6634, val_accu: 0.9632, val_prec: 0.9632, val_sens: 0.9632, val_spec: 0.9929, val_f1: 0.9632, log10lr: -3.0000\n",
      "epoch 37/40, train_loss: 0.6774, val_loss: 0.6639, val_accu: 0.9504, val_prec: 0.9504, val_sens: 0.9504, val_spec: 0.9964, val_f1: 0.9504, log10lr: -3.0000\n",
      "epoch 38/40, train_loss: 0.6766, val_loss: 0.6623, val_accu: 0.9589, val_prec: 0.9589, val_sens: 0.9589, val_spec: 0.9947, val_f1: 0.9589, log10lr: -3.0000\n",
      "epoch 39/40, train_loss: 0.6772, val_loss: 0.6632, val_accu: 0.9572, val_prec: 0.9572, val_sens: 0.9572, val_spec: 0.9964, val_f1: 0.9572, log10lr: -3.0000\n",
      "epoch 40/40, train_loss: 0.6783, val_loss: 0.6658, val_accu: 0.9410, val_prec: 0.9410, val_sens: 0.9410, val_spec: 0.9964, val_f1: 0.9410, log10lr: -3.0000\n"
     ]
    }
   ],
   "source": [
    "for epoch in range(num_epochs):\n",
    "\n",
    "    losses = []\n",
    "    sizes = []\n",
    "\n",
    "    model.train()\n",
    "    for x2, y0, _, coord in train_dataloader:\n",
    "        x2 = x2.float().to(\"mps\")\n",
    "        y0 = y0.float().to(\"mps\")\n",
    "\n",
    "        optimizer.zero_grad()\n",
    "        yh = model(x2, coord)\n",
    "\n",
    "        loss = criterion(yh, y0)\n",
    "        loss.backward()\n",
    "        optimizer.step()\n",
    "\n",
    "        losses.append(loss.item())\n",
    "        sizes.append(len(y0))\n",
    "\n",
    "    train_loss = np.average(losses, weights=sizes)\n",
    "\n",
    "    losses = []\n",
    "    sizes = []\n",
    "\n",
    "    val_labels = []\n",
    "    val_predictions = []\n",
    "    val_directories = []\n",
    "\n",
    "    model.eval()\n",
    "    with torch.no_grad():\n",
    "        for x2, y0, bcs, coord in val_dataloader:\n",
    "            x2 = x2.float().to(\"mps\")\n",
    "            y0 = y0.float().to(\"mps\")\n",
    "\n",
    "            yh = model(x2, coord)\n",
    "\n",
    "            loss = criterion(yh, y0)\n",
    "            \n",
    "            yp_am = torch.argmax(yh, dim=1).to(\"cpu\").numpy().tolist()\n",
    "            y0_am = torch.argmax(y0, dim=1).to(\"cpu\").numpy().tolist()\n",
    "\n",
    "            losses.append(loss.item())\n",
    "            sizes.append(len(y0))\n",
    "\n",
    "            val_labels = val_labels + y0_am\n",
    "            val_predictions = val_predictions + yp_am\n",
    "            val_directories = val_directories + list(bcs)\n",
    "\n",
    "        pred_summary = pd.DataFrame(\n",
    "            {\"label\": val_labels, \"prediction\": val_predictions, \"barcode\": val_directories})\n",
    "        pred_summary[\"correct\"] = pred_summary[\"label\"] == pred_summary[\"prediction\"]\n",
    "\n",
    "        conf_matrix = confusion_matrix(pred_summary[\"label\"], pred_summary[\"prediction\"])\n",
    "        tp, tn, fp, fn = conf_matrix[1, 1], conf_matrix[0, 0], conf_matrix[0, 1], conf_matrix[1, 0]\n",
    "\n",
    "        accuracy = accuracy_score(pred_summary[\"label\"], pred_summary[\"prediction\"])\n",
    "        precision = precision_score(pred_summary[\"label\"], pred_summary[\"prediction\"], average=\"micro\")\n",
    "        recall = recall_score(pred_summary[\"label\"], pred_summary[\"prediction\"], average=\"micro\")\n",
    "        f1 = f1_score(pred_summary[\"label\"], pred_summary[\"prediction\"], average=\"micro\")\n",
    "        specificity = tn / (tn + fp)\n",
    "\n",
    "        val_loss = np.average(losses, weights=sizes)\n",
    "\n",
    "    train_losses_epoch.append(train_loss)\n",
    "    val_losses_epoch.append(val_loss)\n",
    "    accuracies_epoch.append(accuracy)\n",
    "    precision_epoch.append(precision)\n",
    "    sensitivity_epoch.append(recall)\n",
    "    specificity_epoch.append(specificity)\n",
    "    f1_epoch.append(f1)\n",
    "\n",
    "    epochs.append(epoch + 1)\n",
    "\n",
    "    print(\n",
    "        f'epoch {epoch + 1}/{num_epochs}, train_loss: {train_loss.item():.4f}, val_loss: {val_loss:.4f}, val_accu: {accuracy:.4f}, val_prec: {precision:.4f}, val_sens: {recall:.4f}, val_spec: {specificity:.4f}, val_f1: {f1:.4f}, log10lr: {np.log10(optimizer.param_groups[0][\"lr\"]):.4f}')\n",
    "    \n",
    "    #scheduler.step(val_loss)"
   ],
   "metadata": {
    "collapsed": false,
    "ExecuteTime": {
     "end_time": "2023-12-28T07:41:51.155143Z",
     "start_time": "2023-12-28T07:35:10.488560Z"
    }
   },
   "id": "8039120afc63c90f"
  },
  {
   "cell_type": "code",
   "execution_count": 20,
   "outputs": [
    {
     "data": {
      "text/plain": "<Figure size 500x200 with 1 Axes>",
      "image/png": "[encoded data removed]"
     },
     "metadata": {},
     "output_type": "display_data"
    },
    {
     "data": {
      "text/plain": "<Figure size 500x200 with 1 Axes>",
      "image/png": "[encoded data removed]"
     },
     "metadata": {},
     "output_type": "display_data"
    },
    {
     "ename": "ValueError",
     "evalue": "multiclass format is not supported",
     "output_type": "error",
     "traceback": [
      "\u001B[0;31m---------------------------------------------------------------------------\u001B[0m",
      "\u001B[0;31mValueError\u001B[0m                                Traceback (most recent call last)",
      "Cell \u001B[0;32mIn[20], line 18\u001B[0m\n\u001B[1;32m     15\u001B[0m plt\u001B[38;5;241m.\u001B[39mgrid(\u001B[38;5;28;01mTrue\u001B[39;00m)\n\u001B[1;32m     16\u001B[0m plt\u001B[38;5;241m.\u001B[39mshow()\n\u001B[0;32m---> 18\u001B[0m fpr, tpr, thresholds \u001B[38;5;241m=\u001B[39m \u001B[43mroc_curve\u001B[49m\u001B[43m(\u001B[49m\u001B[43mpred_summary\u001B[49m\u001B[43m[\u001B[49m\u001B[38;5;124;43m\"\u001B[39;49m\u001B[38;5;124;43mlabel\u001B[39;49m\u001B[38;5;124;43m\"\u001B[39;49m\u001B[43m]\u001B[49m\u001B[43m,\u001B[49m\u001B[43m \u001B[49m\u001B[43mpred_summary\u001B[49m\u001B[43m[\u001B[49m\u001B[38;5;124;43m\"\u001B[39;49m\u001B[38;5;124;43mprediction\u001B[39;49m\u001B[38;5;124;43m\"\u001B[39;49m\u001B[43m]\u001B[49m\u001B[43m)\u001B[49m\n\u001B[1;32m     19\u001B[0m roc_auc \u001B[38;5;241m=\u001B[39m auc(fpr, tpr)\n\u001B[1;32m     21\u001B[0m plt\u001B[38;5;241m.\u001B[39mfigure()\n",
      "File \u001B[0;32m~/miniforge3/envs/Pan-cancer/lib/python3.11/site-packages/sklearn/utils/_param_validation.py:211\u001B[0m, in \u001B[0;36mvalidate_params.<locals>.decorator.<locals>.wrapper\u001B[0;34m(*args, **kwargs)\u001B[0m\n\u001B[1;32m    205\u001B[0m \u001B[38;5;28;01mtry\u001B[39;00m:\n\u001B[1;32m    206\u001B[0m     \u001B[38;5;28;01mwith\u001B[39;00m config_context(\n\u001B[1;32m    207\u001B[0m         skip_parameter_validation\u001B[38;5;241m=\u001B[39m(\n\u001B[1;32m    208\u001B[0m             prefer_skip_nested_validation \u001B[38;5;129;01mor\u001B[39;00m global_skip_validation\n\u001B[1;32m    209\u001B[0m         )\n\u001B[1;32m    210\u001B[0m     ):\n\u001B[0;32m--> 211\u001B[0m         \u001B[38;5;28;01mreturn\u001B[39;00m \u001B[43mfunc\u001B[49m\u001B[43m(\u001B[49m\u001B[38;5;241;43m*\u001B[39;49m\u001B[43margs\u001B[49m\u001B[43m,\u001B[49m\u001B[43m \u001B[49m\u001B[38;5;241;43m*\u001B[39;49m\u001B[38;5;241;43m*\u001B[39;49m\u001B[43mkwargs\u001B[49m\u001B[43m)\u001B[49m\n\u001B[1;32m    212\u001B[0m \u001B[38;5;28;01mexcept\u001B[39;00m InvalidParameterError \u001B[38;5;28;01mas\u001B[39;00m e:\n\u001B[1;32m    213\u001B[0m     \u001B[38;5;66;03m# When the function is just a wrapper around an estimator, we allow\u001B[39;00m\n\u001B[1;32m    214\u001B[0m     \u001B[38;5;66;03m# the function to delegate validation to the estimator, but we replace\u001B[39;00m\n\u001B[1;32m    215\u001B[0m     \u001B[38;5;66;03m# the name of the estimator by the name of the function in the error\u001B[39;00m\n\u001B[1;32m    216\u001B[0m     \u001B[38;5;66;03m# message to avoid confusion.\u001B[39;00m\n\u001B[1;32m    217\u001B[0m     msg \u001B[38;5;241m=\u001B[39m re\u001B[38;5;241m.\u001B[39msub(\n\u001B[1;32m    218\u001B[0m         \u001B[38;5;124mr\u001B[39m\u001B[38;5;124m\"\u001B[39m\u001B[38;5;124mparameter of \u001B[39m\u001B[38;5;124m\\\u001B[39m\u001B[38;5;124mw+ must be\u001B[39m\u001B[38;5;124m\"\u001B[39m,\n\u001B[1;32m    219\u001B[0m         \u001B[38;5;124mf\u001B[39m\u001B[38;5;124m\"\u001B[39m\u001B[38;5;124mparameter of \u001B[39m\u001B[38;5;132;01m{\u001B[39;00mfunc\u001B[38;5;241m.\u001B[39m\u001B[38;5;18m__qualname__\u001B[39m\u001B[38;5;132;01m}\u001B[39;00m\u001B[38;5;124m must be\u001B[39m\u001B[38;5;124m\"\u001B[39m,\n\u001B[1;32m    220\u001B[0m         \u001B[38;5;28mstr\u001B[39m(e),\n\u001B[1;32m    221\u001B[0m     )\n",
      "File \u001B[0;32m~/miniforge3/envs/Pan-cancer/lib/python3.11/site-packages/sklearn/metrics/_ranking.py:1095\u001B[0m, in \u001B[0;36mroc_curve\u001B[0;34m(y_true, y_score, pos_label, sample_weight, drop_intermediate)\u001B[0m\n\u001B[1;32m    993\u001B[0m \u001B[38;5;129m@validate_params\u001B[39m(\n\u001B[1;32m    994\u001B[0m     {\n\u001B[1;32m    995\u001B[0m         \u001B[38;5;124m\"\u001B[39m\u001B[38;5;124my_true\u001B[39m\u001B[38;5;124m\"\u001B[39m: [\u001B[38;5;124m\"\u001B[39m\u001B[38;5;124marray-like\u001B[39m\u001B[38;5;124m\"\u001B[39m],\n\u001B[0;32m   (...)\u001B[0m\n\u001B[1;32m   1004\u001B[0m     y_true, y_score, \u001B[38;5;241m*\u001B[39m, pos_label\u001B[38;5;241m=\u001B[39m\u001B[38;5;28;01mNone\u001B[39;00m, sample_weight\u001B[38;5;241m=\u001B[39m\u001B[38;5;28;01mNone\u001B[39;00m, drop_intermediate\u001B[38;5;241m=\u001B[39m\u001B[38;5;28;01mTrue\u001B[39;00m\n\u001B[1;32m   1005\u001B[0m ):\n\u001B[1;32m   1006\u001B[0m \u001B[38;5;250m    \u001B[39m\u001B[38;5;124;03m\"\"\"Compute Receiver operating characteristic (ROC).\u001B[39;00m\n\u001B[1;32m   1007\u001B[0m \n\u001B[1;32m   1008\u001B[0m \u001B[38;5;124;03m    Note: this implementation is restricted to the binary classification task.\u001B[39;00m\n\u001B[0;32m   (...)\u001B[0m\n\u001B[1;32m   1093\u001B[0m \u001B[38;5;124;03m    array([ inf, 0.8 , 0.4 , 0.35, 0.1 ])\u001B[39;00m\n\u001B[1;32m   1094\u001B[0m \u001B[38;5;124;03m    \"\"\"\u001B[39;00m\n\u001B[0;32m-> 1095\u001B[0m     fps, tps, thresholds \u001B[38;5;241m=\u001B[39m \u001B[43m_binary_clf_curve\u001B[49m\u001B[43m(\u001B[49m\n\u001B[1;32m   1096\u001B[0m \u001B[43m        \u001B[49m\u001B[43my_true\u001B[49m\u001B[43m,\u001B[49m\u001B[43m \u001B[49m\u001B[43my_score\u001B[49m\u001B[43m,\u001B[49m\u001B[43m \u001B[49m\u001B[43mpos_label\u001B[49m\u001B[38;5;241;43m=\u001B[39;49m\u001B[43mpos_label\u001B[49m\u001B[43m,\u001B[49m\u001B[43m \u001B[49m\u001B[43msample_weight\u001B[49m\u001B[38;5;241;43m=\u001B[39;49m\u001B[43msample_weight\u001B[49m\n\u001B[1;32m   1097\u001B[0m \u001B[43m    \u001B[49m\u001B[43m)\u001B[49m\n\u001B[1;32m   1099\u001B[0m     \u001B[38;5;66;03m# Attempt to drop thresholds corresponding to points in between and\u001B[39;00m\n\u001B[1;32m   1100\u001B[0m     \u001B[38;5;66;03m# collinear with other points. These are always suboptimal and do not\u001B[39;00m\n\u001B[1;32m   1101\u001B[0m     \u001B[38;5;66;03m# appear on a plotted ROC curve (and thus do not affect the AUC).\u001B[39;00m\n\u001B[0;32m   (...)\u001B[0m\n\u001B[1;32m   1106\u001B[0m     \u001B[38;5;66;03m# but does not drop more complicated cases like fps = [1, 3, 7],\u001B[39;00m\n\u001B[1;32m   1107\u001B[0m     \u001B[38;5;66;03m# tps = [1, 2, 4]; there is no harm in keeping too many thresholds.\u001B[39;00m\n\u001B[1;32m   1108\u001B[0m     \u001B[38;5;28;01mif\u001B[39;00m drop_intermediate \u001B[38;5;129;01mand\u001B[39;00m \u001B[38;5;28mlen\u001B[39m(fps) \u001B[38;5;241m>\u001B[39m \u001B[38;5;241m2\u001B[39m:\n",
      "File \u001B[0;32m~/miniforge3/envs/Pan-cancer/lib/python3.11/site-packages/sklearn/metrics/_ranking.py:804\u001B[0m, in \u001B[0;36m_binary_clf_curve\u001B[0;34m(y_true, y_score, pos_label, sample_weight)\u001B[0m\n\u001B[1;32m    802\u001B[0m y_type \u001B[38;5;241m=\u001B[39m type_of_target(y_true, input_name\u001B[38;5;241m=\u001B[39m\u001B[38;5;124m\"\u001B[39m\u001B[38;5;124my_true\u001B[39m\u001B[38;5;124m\"\u001B[39m)\n\u001B[1;32m    803\u001B[0m \u001B[38;5;28;01mif\u001B[39;00m \u001B[38;5;129;01mnot\u001B[39;00m (y_type \u001B[38;5;241m==\u001B[39m \u001B[38;5;124m\"\u001B[39m\u001B[38;5;124mbinary\u001B[39m\u001B[38;5;124m\"\u001B[39m \u001B[38;5;129;01mor\u001B[39;00m (y_type \u001B[38;5;241m==\u001B[39m \u001B[38;5;124m\"\u001B[39m\u001B[38;5;124mmulticlass\u001B[39m\u001B[38;5;124m\"\u001B[39m \u001B[38;5;129;01mand\u001B[39;00m pos_label \u001B[38;5;129;01mis\u001B[39;00m \u001B[38;5;129;01mnot\u001B[39;00m \u001B[38;5;28;01mNone\u001B[39;00m)):\n\u001B[0;32m--> 804\u001B[0m     \u001B[38;5;28;01mraise\u001B[39;00m \u001B[38;5;167;01mValueError\u001B[39;00m(\u001B[38;5;124m\"\u001B[39m\u001B[38;5;132;01m{0}\u001B[39;00m\u001B[38;5;124m format is not supported\u001B[39m\u001B[38;5;124m\"\u001B[39m\u001B[38;5;241m.\u001B[39mformat(y_type))\n\u001B[1;32m    806\u001B[0m check_consistent_length(y_true, y_score, sample_weight)\n\u001B[1;32m    807\u001B[0m y_true \u001B[38;5;241m=\u001B[39m column_or_1d(y_true)\n",
      "\u001B[0;31mValueError\u001B[0m: multiclass format is not supported"
     ]
    }
   ],
   "source": [
    "plt.figure(figsize=(5, 2))\n",
    "plt.plot(epochs, train_losses_epoch, label='train_loss')\n",
    "plt.plot(epochs, val_losses_epoch, label='val_loss')\n",
    "plt.legend()\n",
    "plt.grid(True)\n",
    "plt.show()"
   ],
   "metadata": {
    "collapsed": false,
    "ExecuteTime": {
     "end_time": "2023-12-28T07:41:51.573589Z",
     "start_time": "2023-12-28T07:41:51.154746Z"
    }
   },
   "id": "533cb2df0733890c"
  },
  {
   "cell_type": "code",
   "execution_count": 21,
   "outputs": [
    {
     "name": "stdout",
     "output_type": "stream",
     "text": [
      "     0    1    2\n",
      "0  561    2    0\n",
      "1   61  376    4\n",
      "2    1    1  163\n"
     ]
    }
   ],
   "source": [
    "print(pd.DataFrame(conf_matrix))"
   ],
   "metadata": {
    "collapsed": false,
    "ExecuteTime": {
     "end_time": "2023-12-28T07:43:53.845302Z",
     "start_time": "2023-12-28T07:43:53.834766Z"
    }
   },
   "id": "9d325498a117db90"
  },
  {
   "cell_type": "code",
   "execution_count": 22,
   "outputs": [
    {
     "data": {
      "text/plain": "      label  prediction                                barcode  correct\n2         1           0                 LC499_AAAGGGCCAAATGCTC    False\n4         1           0                 LC499_AACAAAGTCCATGACA    False\n20        1           0                 LC499_ACAGGCCAGCATTGGG    False\n38        1           0                 LC499_AGACAAAAGAAATACC    False\n39        1           0                 LC499_AGATAGAGTGTACGCC    False\n...     ...         ...                                    ...      ...\n924       1           2  LC676_merged_hg38.sc_CTTGAAGCATCCATAG    False\n948       1           2  LC676_merged_hg38.sc_GCTTTCGAGACGACTG    False\n968       1           2  LC676_merged_hg38.sc_TAGGAGGTCAACTTGG    False\n1037      2           0  LC677_merged_hg38.sc_CAATCCCGTAAGGTCG    False\n1146      2           1  LC677_merged_hg38.sc_TGCGTAACAACGGGTA    False\n\n[69 rows x 4 columns]",
      "text/html": "<div>\n<style scoped>\n    .dataframe tbody tr th:only-of-type {\n        vertical-align: middle;\n    }\n\n    .dataframe tbody tr th {\n        vertical-align: top;\n    }\n\n    .dataframe thead th {\n        text-align: right;\n    }\n</style>\n<table border=\"1\" class=\"dataframe\">\n  <thead>\n    <tr style=\"text-align: right;\">\n      <th></th>\n      <th>label</th>\n      <th>prediction</th>\n      <th>barcode</th>\n      <th>correct</th>\n    </tr>\n  </thead>\n  <tbody>\n    <tr>\n      <th>2</th>\n      <td>1</td>\n      <td>0</td>\n      <td>LC499_AAAGGGCCAAATGCTC</td>\n      <td>False</td>\n    </tr>\n    <tr>\n      <th>4</th>\n      <td>1</td>\n      <td>0</td>\n      <td>LC499_AACAAAGTCCATGACA</td>\n      <td>False</td>\n    </tr>\n    <tr>\n      <th>20</th>\n      <td>1</td>\n      <td>0</td>\n      <td>LC499_ACAGGCCAGCATTGGG</td>\n      <td>False</td>\n    </tr>\n    <tr>\n      <th>38</th>\n      <td>1</td>\n      <td>0</td>\n      <td>LC499_AGACAAAAGAAATACC</td>\n      <td>False</td>\n    </tr>\n    <tr>\n      <th>39</th>\n      <td>1</td>\n      <td>0</td>\n      <td>LC499_AGATAGAGTGTACGCC</td>\n      <td>False</td>\n    </tr>\n    <tr>\n      <th>...</th>\n      <td>...</td>\n      <td>...</td>\n      <td>...</td>\n      <td>...</td>\n    </tr>\n    <tr>\n      <th>924</th>\n      <td>1</td>\n      <td>2</td>\n      <td>LC676_merged_hg38.sc_CTTGAAGCATCCATAG</td>\n      <td>False</td>\n    </tr>\n    <tr>\n      <th>948</th>\n      <td>1</td>\n      <td>2</td>\n      <td>LC676_merged_hg38.sc_GCTTTCGAGACGACTG</td>\n      <td>False</td>\n    </tr>\n    <tr>\n      <th>968</th>\n      <td>1</td>\n      <td>2</td>\n      <td>LC676_merged_hg38.sc_TAGGAGGTCAACTTGG</td>\n      <td>False</td>\n    </tr>\n    <tr>\n      <th>1037</th>\n      <td>2</td>\n      <td>0</td>\n      <td>LC677_merged_hg38.sc_CAATCCCGTAAGGTCG</td>\n      <td>False</td>\n    </tr>\n    <tr>\n      <th>1146</th>\n      <td>2</td>\n      <td>1</td>\n      <td>LC677_merged_hg38.sc_TGCGTAACAACGGGTA</td>\n      <td>False</td>\n    </tr>\n  </tbody>\n</table>\n<p>69 rows × 4 columns</p>\n</div>"
     },
     "execution_count": 22,
     "metadata": {},
     "output_type": "execute_result"
    }
   ],
   "source": [
    "pred_summary[pred_summary[\"correct\"] == False]"
   ],
   "metadata": {
    "collapsed": false,
    "ExecuteTime": {
     "end_time": "2023-12-28T07:44:37.536903Z",
     "start_time": "2023-12-28T07:44:37.511592Z"
    }
   },
   "id": "5bbb77ebd105f7ba"
  },
  {
   "cell_type": "code",
   "execution_count": 27,
   "outputs": [],
   "source": [
    "#torch.save(model.state_dict(), \"model_dec20_2_multi.pt\")"
   ],
   "metadata": {
    "collapsed": false,
    "ExecuteTime": {
     "end_time": "2023-12-21T04:22:33.642669Z",
     "start_time": "2023-12-21T04:22:33.623330Z"
    }
   },
   "id": "7500480ab34ccb8a"
  },
  {
   "cell_type": "markdown",
   "source": [
    "### Evaluate performance"
   ],
   "metadata": {
    "collapsed": false
   },
   "id": "5d8c517ca803dc08"
  },
  {
   "cell_type": "code",
   "execution_count": 18,
   "outputs": [
    {
     "data": {
      "text/plain": "CNN(\n  (conv_f2_l1): Conv2d(1, 8, kernel_size=(5, 45), stride=(1, 11), padding=(0, 2))\n  (conv_f2_l2): Conv2d(8, 16, kernel_size=(1, 45), stride=(1, 4))\n  (bn_f2_l1): BatchNorm2d(8, eps=1e-05, momentum=0.1, affine=True, track_running_stats=True)\n  (bn_f2_l2): BatchNorm2d(16, eps=1e-05, momentum=0.1, affine=True, track_running_stats=True)\n  (bn_fc_l1): BatchNorm1d(64, eps=1e-05, momentum=0.1, affine=True, track_running_stats=True)\n  (pool_f2_l1): MaxPool2d(kernel_size=(1, 2), stride=2, padding=0, dilation=1, ceil_mode=False)\n  (pool_f2_l2): MaxPool2d(kernel_size=(1, 2), stride=2, padding=0, dilation=1, ceil_mode=False)\n  (fc_l1): Linear(in_features=223, out_features=64, bias=True)\n  (fc_l2): Linear(in_features=64, out_features=3, bias=True)\n  (dropout_f2): Dropout(p=0.5, inplace=False)\n  (dropout_fc): Dropout(p=0.5, inplace=False)\n  (softmax): Softmax(dim=1)\n)"
     },
     "execution_count": 18,
     "metadata": {},
     "output_type": "execute_result"
    }
   ],
   "source": [
    "model.load_state_dict(torch.load(\"model_dec20_2_multi.pt\"))\n",
    "model.to(\"mps\")"
   ],
   "metadata": {
    "collapsed": false,
    "ExecuteTime": {
     "end_time": "2024-01-12T06:11:30.015528Z",
     "start_time": "2024-01-12T06:11:29.959732Z"
    }
   },
   "id": "387f26b6f9ea4d80"
  },
  {
   "cell_type": "code",
   "execution_count": 19,
   "outputs": [],
   "source": [
    "val_labels = []\n",
    "val_predictions = []\n",
    "val_directories = []\n",
    "\n",
    "model.eval()\n",
    "with torch.no_grad():\n",
    "        for x2, y0, bcs, coord in val_dataloader:\n",
    "            x2 = x2.float().to(\"mps\")\n",
    "            y0 = y0.float().to(\"mps\")\n",
    "\n",
    "            yh = model(x2, coord)\n",
    "\n",
    "            loss = criterion(yh, y0)\n",
    "            \n",
    "            yp_am = torch.argmax(yh, dim=1).to(\"cpu\").numpy().tolist()\n",
    "            y0_am = torch.argmax(y0, dim=1).to(\"cpu\").numpy().tolist()\n",
    "\n",
    "            val_labels = val_labels + y0_am\n",
    "            val_predictions = val_predictions + yp_am\n",
    "            val_directories = val_directories + list(bcs)\n",
    "\n",
    "        pred_summary = pd.DataFrame(\n",
    "            {\"label\": val_labels, \"prediction\": val_predictions, \"barcode\": val_directories})\n",
    "        pred_summary[\"correct\"] = pred_summary[\"label\"] == pred_summary[\"prediction\"]\n",
    "\n",
    "        conf_matrix = confusion_matrix(pred_summary[\"label\"], pred_summary[\"prediction\"])\n",
    "        tp, tn, fp, fn = conf_matrix[1, 1], conf_matrix[0, 0], conf_matrix[0, 1], conf_matrix[1, 0]"
   ],
   "metadata": {
    "collapsed": false,
    "ExecuteTime": {
     "end_time": "2024-01-12T06:11:32.599837Z",
     "start_time": "2024-01-12T06:11:31.293020Z"
    }
   },
   "id": "334643492a910dee"
  },
  {
   "cell_type": "code",
   "execution_count": 20,
   "outputs": [
    {
     "data": {
      "text/plain": "array([[561,   2],\n       [ 61, 249]])"
     },
     "execution_count": 20,
     "metadata": {},
     "output_type": "execute_result"
    }
   ],
   "source": [
    "conf_matrix"
   ],
   "metadata": {
    "collapsed": false,
    "ExecuteTime": {
     "end_time": "2024-01-12T06:11:32.605475Z",
     "start_time": "2024-01-12T06:11:32.600553Z"
    }
   },
   "id": "e6ba7c05cfbb9522"
  },
  {
   "cell_type": "code",
   "execution_count": 21,
   "outputs": [],
   "source": [
    "accuracy = accuracy_score(pred_summary[\"label\"], pred_summary[\"prediction\"])\n",
    "precision = precision_score(pred_summary[\"label\"], pred_summary[\"prediction\"])\n",
    "recall = recall_score(pred_summary[\"label\"], pred_summary[\"prediction\"])\n",
    "specificity = tn / (tn + fp)"
   ],
   "metadata": {
    "collapsed": false,
    "ExecuteTime": {
     "end_time": "2024-01-12T06:12:06.459701Z",
     "start_time": "2024-01-12T06:12:06.398951Z"
    }
   },
   "id": "a4217ece01a27a21"
  },
  {
   "cell_type": "code",
   "execution_count": 22,
   "outputs": [
    {
     "data": {
      "text/plain": "(0.9278350515463918,\n 0.9920318725099602,\n 0.8032258064516129,\n 0.9964476021314387)"
     },
     "execution_count": 22,
     "metadata": {},
     "output_type": "execute_result"
    }
   ],
   "source": [
    "accuracy, precision, recall, specificity"
   ],
   "metadata": {
    "collapsed": false,
    "ExecuteTime": {
     "end_time": "2024-01-12T06:12:07.046498Z",
     "start_time": "2024-01-12T06:12:07.017741Z"
    }
   },
   "id": "1c6e265223744e16"
  }
 ],
 "metadata": {
  "kernelspec": {
   "display_name": "Python 3",
   "language": "python",
   "name": "python3"
  },
  "language_info": {
   "codemirror_mode": {
    "name": "ipython",
    "version": 2
   },
   "file_extension": ".py",
   "mimetype": "text/x-python",
   "name": "python",
   "nbconvert_exporter": "python",
   "pygments_lexer": "ipython2",
   "version": "2.7.6"
  }
 },
 "nbformat": 4,
 "nbformat_minor": 5
}
