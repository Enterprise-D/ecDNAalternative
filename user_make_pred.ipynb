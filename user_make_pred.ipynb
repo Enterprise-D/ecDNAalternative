{
 "cells": [
  {
   "cell_type": "markdown",
   "source": [
    "### Initialize"
   ],
   "metadata": {
    "collapsed": false
   },
   "id": "3adfd4c92cd11acd"
  },
  {
   "cell_type": "code",
   "execution_count": 1,
   "outputs": [],
   "source": [
    "input_dir = \"data/raw/LC499_val\"\n",
    "prob_threshold = 0.05\n",
    "num_processes = 4"
   ],
   "metadata": {
    "collapsed": false,
    "ExecuteTime": {
     "end_time": "2023-12-14T02:49:59.811855Z",
     "start_time": "2023-12-14T02:49:59.803755Z"
    }
   },
   "id": "b97ff5e33a986263"
  },
  {
   "cell_type": "code",
   "execution_count": 2,
   "outputs": [],
   "source": [
    "import os\n",
    "import random\n",
    "from tqdm import tqdm\n",
    "from functools import partial\n",
    "\n",
    "import numpy as np\n",
    "import pandas as pd\n",
    "import torch\n",
    "import torch.nn as nn\n",
    "import torch.nn.functional as F\n",
    "from torch.multiprocessing import Pool\n",
    "from scipy.sparse import coo_matrix\n",
    "\n",
    "import pygini\n",
    "\n",
    "random.seed(42)\n",
    "torch.manual_seed(42)\n",
    "torch.mps.manual_seed(42)"
   ],
   "metadata": {
    "collapsed": false,
    "ExecuteTime": {
     "end_time": "2023-12-14T02:50:01.037267Z",
     "start_time": "2023-12-14T02:50:00.238053Z"
    }
   },
   "id": "initial_id"
  },
  {
   "cell_type": "code",
   "execution_count": 3,
   "outputs": [],
   "source": [
    "chr_index = pd.read_csv(\"index.csv\", header=0)\n",
    "\n",
    "window_0 = 5\n",
    "window_1 = 5\n",
    "\n",
    "chr_size = [249, 243, 199, 191, 182, 171, 160, 146, 139, 134, 136, 134, 115, 108, 102, 91, 84, 81, 59, 65, 47, 51, 157]"
   ],
   "metadata": {
    "collapsed": false,
    "ExecuteTime": {
     "end_time": "2023-12-14T02:50:01.408291Z",
     "start_time": "2023-12-14T02:50:01.397658Z"
    }
   },
   "id": "514c3723f1886aef"
  },
  {
   "cell_type": "code",
   "execution_count": 4,
   "outputs": [],
   "source": [
    "def read_mtx(path, index):\n",
    "    contact_mat = pd.read_csv(path, sep=\"\\t\", header=0)\n",
    "    contact_mat = contact_mat[(contact_mat[\"chrom1\"] != \"chrY\") & (contact_mat[\"chrom2\"] != \"chrY\")]\n",
    "    contact_mat = pd.concat([contact_mat[\"chrom1\"] + \"_\" + contact_mat[\"start1\"].astype(str),\n",
    "                             contact_mat[\"chrom2\"] + \"_\" + contact_mat[\"start2\"].astype(str), contact_mat[\"count\"]],\n",
    "                            axis=1)\n",
    "    contact_mat.columns = [\"loc1\", \"loc2\", \"count\"]\n",
    "    contact_mat = pd.merge(contact_mat, index, left_on=\"loc1\", right_on=\"loc\", how=\"left\").drop([\"loc\", \"loc1\"], axis=1)\n",
    "    contact_mat = contact_mat.rename(columns={contact_mat.columns[2]: \"index1\"})\n",
    "    contact_mat = pd.merge(contact_mat, index, left_on=\"loc2\", right_on=\"loc\", how=\"left\").drop([\"loc\", \"loc2\"], axis=1)\n",
    "    contact_mat = contact_mat.rename(columns={contact_mat.columns[2]: \"index2\"})\n",
    "    contact_mat = coo_matrix((contact_mat['count'], (contact_mat['index1'], contact_mat['index2'])),\n",
    "                             shape=(index.shape[0], index.shape[0]))\n",
    "    contact_mat = contact_mat.toarray()\n",
    "\n",
    "    return contact_mat"
   ],
   "metadata": {
    "collapsed": false,
    "ExecuteTime": {
     "end_time": "2023-12-14T02:50:01.771164Z",
     "start_time": "2023-12-14T02:50:01.766009Z"
    }
   },
   "id": "14e64f19109d3483"
  },
  {
   "cell_type": "code",
   "execution_count": 5,
   "outputs": [],
   "source": [
    "def slide(matrix, window_0, window_1):\n",
    "    half_window_0 = int((window_0 - 1) / 2)\n",
    "    half_window_1 = int((window_1 - 1) / 2)\n",
    "\n",
    "    centers = []\n",
    "    tensors = []\n",
    "\n",
    "    for i in range(matrix.shape[0] - window_1 + 1):\n",
    "        center = i + half_window_1\n",
    "        lower = center - half_window_0\n",
    "        upper = center + half_window_0 + 1\n",
    "\n",
    "        tensors.append(matrix[lower:upper, :])\n",
    "        centers.append(center)\n",
    "\n",
    "    test_tensor = torch.stack(tensors, dim=0)\n",
    "    centers = np.array(centers)\n",
    "\n",
    "    return test_tensor, centers"
   ],
   "metadata": {
    "collapsed": false,
    "ExecuteTime": {
     "end_time": "2023-12-14T02:50:02.248994Z",
     "start_time": "2023-12-14T02:50:02.247375Z"
    }
   },
   "id": "b7883410cf3a92d"
  },
  {
   "cell_type": "markdown",
   "source": [
    "### Define model"
   ],
   "metadata": {
    "collapsed": false
   },
   "id": "f02ea3d2d7b589b4"
  },
  {
   "cell_type": "code",
   "execution_count": 7,
   "outputs": [],
   "source": [
    "class CNN(nn.Module):\n",
    "    def __init__(self):\n",
    "        super(CNN, self).__init__()\n",
    "\n",
    "        self.conv_f2_l1 = nn.Conv2d(1, 8, kernel_size=(5, 45), stride=(1, 11), padding=(0, 2))\n",
    "        self.conv_f2_l2 = nn.Conv2d(8, 16, kernel_size=(1, 45), stride=(1, 4), padding=(0, 0))\n",
    "\n",
    "        self.bn_f2_l1 = nn.BatchNorm2d(8)\n",
    "        self.bn_f2_l2 = nn.BatchNorm2d(16)\n",
    "\n",
    "        self.bn_fc_l1 = nn.BatchNorm1d(64)\n",
    "\n",
    "        self.pool_f2_l1 = nn.MaxPool2d(kernel_size=(1, 2), stride=2, padding=0)\n",
    "        self.pool_f2_l2 = nn.MaxPool2d(kernel_size=(1, 2), stride=2, padding=0)\n",
    "\n",
    "        self.fc_l1 = nn.Linear(5 * 5 + 12 * 16 + 5 + 1, 64)\n",
    "        self.fc_l2 = nn.Linear(64, 1)\n",
    "\n",
    "        #self.dropout_f1 = nn.Dropout(0.5)\n",
    "        self.dropout_f2 = nn.Dropout(0.5)\n",
    "\n",
    "        self.dropout_fc = nn.Dropout(0.5)\n",
    "\n",
    "    def forward(self, x2, coord):\n",
    "        #if self.training:\n",
    "        #    noise = zi_pois_noise(x2.shape, 1, 0.9999)  # test this\n",
    "        #    x2 = x2 + noise.float().to(\"mps\")\n",
    "\n",
    "        start_indices = coord - int((5 + 1) / 2) + 1\n",
    "        end_indices = coord + int((5 + 1) / 2)\n",
    "        \n",
    "        x2_chr = torch.split(x2[...,2,:], chr_size, dim=-1)\n",
    "        x2_c = torch.stack([torch.squeeze(torch.sum(st, dim=-1), dim=-1) / st.shape[-1] for st in x2_chr], dim=-1)\n",
    "        \n",
    "        #chr = F.normalize(x2_c, dim=-1, p=1)\n",
    "        \n",
    "        gini = []\n",
    "        for i in range(x2_c.shape[0]):\n",
    "            gini.append(torch.tensor(pygini.gini(x2_c[i, :].cpu().numpy()),dtype=torch.float32))\n",
    "        gini = torch.unsqueeze(torch.stack(gini, dim=0), dim=-1)\n",
    "        \n",
    "        d4_slices = []\n",
    "\n",
    "        for i in range(x2.size(0)):\n",
    "            d4_slices.append(x2[i, ..., start_indices[i]:end_indices[i]])\n",
    "\n",
    "        x1 = torch.stack(d4_slices, dim=0)\n",
    "\n",
    "        x1 = torch.log2(x1 + 1)\n",
    "        x2 = (x2 > 0).float()\n",
    "\n",
    "        x2_s = F.normalize(torch.squeeze(torch.sum(x2, dim=-1), dim=1), dim=-1, p=1)\n",
    "\n",
    "        x2 = self.pool_f2_l1(F.relu(self.bn_f2_l1(self.conv_f2_l1(x2))))\n",
    "        x2 = self.dropout_f2(x2)\n",
    "        x2 = self.pool_f2_l2(F.relu(self.bn_f2_l2(self.conv_f2_l2(x2))))\n",
    "\n",
    "        x1 = x1.view(-1, 5 * 5)\n",
    "        x2 = x2.view(-1, 12 * 16)\n",
    "        \n",
    "        x = torch.cat((x1, x2, x2_s, gini), dim=1)\n",
    "\n",
    "        x = self.dropout_fc(F.gelu(self.bn_fc_l1(self.fc_l1(x))))\n",
    "\n",
    "        x = self.fc_l2(x)\n",
    "\n",
    "        return x.squeeze(-1)"
   ],
   "metadata": {
    "collapsed": false,
    "ExecuteTime": {
     "end_time": "2023-12-14T02:50:03.529889Z",
     "start_time": "2023-12-14T02:50:03.527506Z"
    }
   },
   "id": "4d262f08eb6cf5dc"
  },
  {
   "cell_type": "code",
   "execution_count": 8,
   "outputs": [
    {
     "data": {
      "text/plain": "<All keys matched successfully>"
     },
     "execution_count": 8,
     "metadata": {},
     "output_type": "execute_result"
    }
   ],
   "source": [
    "model = CNN()\n",
    "model.load_state_dict(torch.load(\"model_dec12_dev.pt\"))"
   ],
   "metadata": {
    "collapsed": false,
    "ExecuteTime": {
     "end_time": "2023-12-14T02:50:03.820666Z",
     "start_time": "2023-12-14T02:50:03.783779Z"
    }
   },
   "id": "e3fd0663a76fb2e0"
  },
  {
   "cell_type": "markdown",
   "source": [
    "### Generate prediction"
   ],
   "metadata": {
    "collapsed": false
   },
   "id": "5112f24af2df43b0"
  },
  {
   "cell_type": "code",
   "execution_count": 13,
   "outputs": [
    {
     "name": "stderr",
     "output_type": "stream",
     "text": [
      "Processing:   0%|          | 0/310 [00:01<?, ?cell/s]\n"
     ]
    },
    {
     "ename": "RuntimeError",
     "evalue": "Input type (MPSFloatType) and weight type (torch.FloatTensor) should be the same",
     "output_type": "error",
     "traceback": [
      "\u001B[0;31m---------------------------------------------------------------------------\u001B[0m",
      "\u001B[0;31mRuntimeError\u001B[0m                              Traceback (most recent call last)",
      "Cell \u001B[0;32mIn[13], line 22\u001B[0m\n\u001B[1;32m     19\u001B[0m \u001B[38;5;28;01mwith\u001B[39;00m torch\u001B[38;5;241m.\u001B[39mno_grad():\n\u001B[1;32m     20\u001B[0m     test_tensor \u001B[38;5;241m=\u001B[39m test_tensor\u001B[38;5;241m.\u001B[39munsqueeze(\u001B[38;5;241m1\u001B[39m)\u001B[38;5;241m.\u001B[39mfloat()\u001B[38;5;241m.\u001B[39mto(\u001B[38;5;124m\"\u001B[39m\u001B[38;5;124mmps\u001B[39m\u001B[38;5;124m\"\u001B[39m)\n\u001B[0;32m---> 22\u001B[0m     test_pred \u001B[38;5;241m=\u001B[39m (torch\u001B[38;5;241m.\u001B[39msigmoid(\u001B[43mmodel\u001B[49m\u001B[43m(\u001B[49m\u001B[43mtest_tensor\u001B[49m\u001B[43m,\u001B[49m\u001B[43m \u001B[49m\u001B[43mcenters\u001B[49m\u001B[43m)\u001B[49m)\u001B[38;5;241m.\u001B[39mto(\u001B[38;5;124m\"\u001B[39m\u001B[38;5;124mcpu\u001B[39m\u001B[38;5;124m\"\u001B[39m)\u001B[38;5;241m.\u001B[39mnumpy() \u001B[38;5;241m>\u001B[39m prob_threshold)\u001B[38;5;241m.\u001B[39mastype(\u001B[38;5;28mint\u001B[39m)\n\u001B[1;32m     24\u001B[0m     np\u001B[38;5;241m.\u001B[39msave(\u001B[38;5;124m\"\u001B[39m\u001B[38;5;124mtest/\u001B[39m\u001B[38;5;124m\"\u001B[39m \u001B[38;5;241m+\u001B[39m b1, test_pred)\n\u001B[1;32m     26\u001B[0m     \u001B[38;5;66;03m#record = pd.concat([record, pd.DataFrame({b1: test_pred}, index=range(2, len(test_pred) + 2))], axis=1)\u001B[39;00m\n",
      "File \u001B[0;32m~/miniforge3/envs/Pan-cancer/lib/python3.11/site-packages/torch/nn/modules/module.py:1519\u001B[0m, in \u001B[0;36mModule._wrapped_call_impl\u001B[0;34m(self, *args, **kwargs)\u001B[0m\n\u001B[1;32m   1517\u001B[0m     \u001B[38;5;28;01mreturn\u001B[39;00m \u001B[38;5;28mself\u001B[39m\u001B[38;5;241m.\u001B[39m_compiled_call_impl(\u001B[38;5;241m*\u001B[39margs, \u001B[38;5;241m*\u001B[39m\u001B[38;5;241m*\u001B[39mkwargs)  \u001B[38;5;66;03m# type: ignore[misc]\u001B[39;00m\n\u001B[1;32m   1518\u001B[0m \u001B[38;5;28;01melse\u001B[39;00m:\n\u001B[0;32m-> 1519\u001B[0m     \u001B[38;5;28;01mreturn\u001B[39;00m \u001B[38;5;28;43mself\u001B[39;49m\u001B[38;5;241;43m.\u001B[39;49m\u001B[43m_call_impl\u001B[49m\u001B[43m(\u001B[49m\u001B[38;5;241;43m*\u001B[39;49m\u001B[43margs\u001B[49m\u001B[43m,\u001B[49m\u001B[43m \u001B[49m\u001B[38;5;241;43m*\u001B[39;49m\u001B[38;5;241;43m*\u001B[39;49m\u001B[43mkwargs\u001B[49m\u001B[43m)\u001B[49m\n",
      "File \u001B[0;32m~/miniforge3/envs/Pan-cancer/lib/python3.11/site-packages/torch/nn/modules/module.py:1528\u001B[0m, in \u001B[0;36mModule._call_impl\u001B[0;34m(self, *args, **kwargs)\u001B[0m\n\u001B[1;32m   1523\u001B[0m \u001B[38;5;66;03m# If we don't have any hooks, we want to skip the rest of the logic in\u001B[39;00m\n\u001B[1;32m   1524\u001B[0m \u001B[38;5;66;03m# this function, and just call forward.\u001B[39;00m\n\u001B[1;32m   1525\u001B[0m \u001B[38;5;28;01mif\u001B[39;00m \u001B[38;5;129;01mnot\u001B[39;00m (\u001B[38;5;28mself\u001B[39m\u001B[38;5;241m.\u001B[39m_backward_hooks \u001B[38;5;129;01mor\u001B[39;00m \u001B[38;5;28mself\u001B[39m\u001B[38;5;241m.\u001B[39m_backward_pre_hooks \u001B[38;5;129;01mor\u001B[39;00m \u001B[38;5;28mself\u001B[39m\u001B[38;5;241m.\u001B[39m_forward_hooks \u001B[38;5;129;01mor\u001B[39;00m \u001B[38;5;28mself\u001B[39m\u001B[38;5;241m.\u001B[39m_forward_pre_hooks\n\u001B[1;32m   1526\u001B[0m         \u001B[38;5;129;01mor\u001B[39;00m _global_backward_pre_hooks \u001B[38;5;129;01mor\u001B[39;00m _global_backward_hooks\n\u001B[1;32m   1527\u001B[0m         \u001B[38;5;129;01mor\u001B[39;00m _global_forward_hooks \u001B[38;5;129;01mor\u001B[39;00m _global_forward_pre_hooks):\n\u001B[0;32m-> 1528\u001B[0m     \u001B[38;5;28;01mreturn\u001B[39;00m \u001B[43mforward_call\u001B[49m\u001B[43m(\u001B[49m\u001B[38;5;241;43m*\u001B[39;49m\u001B[43margs\u001B[49m\u001B[43m,\u001B[49m\u001B[43m \u001B[49m\u001B[38;5;241;43m*\u001B[39;49m\u001B[38;5;241;43m*\u001B[39;49m\u001B[43mkwargs\u001B[49m\u001B[43m)\u001B[49m\n\u001B[1;32m   1530\u001B[0m \u001B[38;5;28;01mtry\u001B[39;00m:\n\u001B[1;32m   1531\u001B[0m     result \u001B[38;5;241m=\u001B[39m \u001B[38;5;28;01mNone\u001B[39;00m\n",
      "Cell \u001B[0;32mIn[10], line 54\u001B[0m, in \u001B[0;36mCNN.forward\u001B[0;34m(self, x2, coord)\u001B[0m\n\u001B[1;32m     50\u001B[0m x2 \u001B[38;5;241m=\u001B[39m (x2 \u001B[38;5;241m>\u001B[39m \u001B[38;5;241m0\u001B[39m)\u001B[38;5;241m.\u001B[39mfloat()\n\u001B[1;32m     52\u001B[0m x2_s \u001B[38;5;241m=\u001B[39m F\u001B[38;5;241m.\u001B[39mnormalize(torch\u001B[38;5;241m.\u001B[39msqueeze(torch\u001B[38;5;241m.\u001B[39msum(x2, dim\u001B[38;5;241m=\u001B[39m\u001B[38;5;241m-\u001B[39m\u001B[38;5;241m1\u001B[39m), dim\u001B[38;5;241m=\u001B[39m\u001B[38;5;241m1\u001B[39m), dim\u001B[38;5;241m=\u001B[39m\u001B[38;5;241m-\u001B[39m\u001B[38;5;241m1\u001B[39m, p\u001B[38;5;241m=\u001B[39m\u001B[38;5;241m1\u001B[39m)\n\u001B[0;32m---> 54\u001B[0m x2 \u001B[38;5;241m=\u001B[39m \u001B[38;5;28mself\u001B[39m\u001B[38;5;241m.\u001B[39mpool_f2_l1(F\u001B[38;5;241m.\u001B[39mrelu(\u001B[38;5;28mself\u001B[39m\u001B[38;5;241m.\u001B[39mbn_f2_l1(\u001B[38;5;28;43mself\u001B[39;49m\u001B[38;5;241;43m.\u001B[39;49m\u001B[43mconv_f2_l1\u001B[49m\u001B[43m(\u001B[49m\u001B[43mx2\u001B[49m\u001B[43m)\u001B[49m)))\n\u001B[1;32m     55\u001B[0m x2 \u001B[38;5;241m=\u001B[39m \u001B[38;5;28mself\u001B[39m\u001B[38;5;241m.\u001B[39mdropout_f2(x2)\n\u001B[1;32m     56\u001B[0m x2 \u001B[38;5;241m=\u001B[39m \u001B[38;5;28mself\u001B[39m\u001B[38;5;241m.\u001B[39mpool_f2_l2(F\u001B[38;5;241m.\u001B[39mrelu(\u001B[38;5;28mself\u001B[39m\u001B[38;5;241m.\u001B[39mbn_f2_l2(\u001B[38;5;28mself\u001B[39m\u001B[38;5;241m.\u001B[39mconv_f2_l2(x2))))\n",
      "File \u001B[0;32m~/miniforge3/envs/Pan-cancer/lib/python3.11/site-packages/torch/nn/modules/module.py:1519\u001B[0m, in \u001B[0;36mModule._wrapped_call_impl\u001B[0;34m(self, *args, **kwargs)\u001B[0m\n\u001B[1;32m   1517\u001B[0m     \u001B[38;5;28;01mreturn\u001B[39;00m \u001B[38;5;28mself\u001B[39m\u001B[38;5;241m.\u001B[39m_compiled_call_impl(\u001B[38;5;241m*\u001B[39margs, \u001B[38;5;241m*\u001B[39m\u001B[38;5;241m*\u001B[39mkwargs)  \u001B[38;5;66;03m# type: ignore[misc]\u001B[39;00m\n\u001B[1;32m   1518\u001B[0m \u001B[38;5;28;01melse\u001B[39;00m:\n\u001B[0;32m-> 1519\u001B[0m     \u001B[38;5;28;01mreturn\u001B[39;00m \u001B[38;5;28;43mself\u001B[39;49m\u001B[38;5;241;43m.\u001B[39;49m\u001B[43m_call_impl\u001B[49m\u001B[43m(\u001B[49m\u001B[38;5;241;43m*\u001B[39;49m\u001B[43margs\u001B[49m\u001B[43m,\u001B[49m\u001B[43m \u001B[49m\u001B[38;5;241;43m*\u001B[39;49m\u001B[38;5;241;43m*\u001B[39;49m\u001B[43mkwargs\u001B[49m\u001B[43m)\u001B[49m\n",
      "File \u001B[0;32m~/miniforge3/envs/Pan-cancer/lib/python3.11/site-packages/torch/nn/modules/module.py:1528\u001B[0m, in \u001B[0;36mModule._call_impl\u001B[0;34m(self, *args, **kwargs)\u001B[0m\n\u001B[1;32m   1523\u001B[0m \u001B[38;5;66;03m# If we don't have any hooks, we want to skip the rest of the logic in\u001B[39;00m\n\u001B[1;32m   1524\u001B[0m \u001B[38;5;66;03m# this function, and just call forward.\u001B[39;00m\n\u001B[1;32m   1525\u001B[0m \u001B[38;5;28;01mif\u001B[39;00m \u001B[38;5;129;01mnot\u001B[39;00m (\u001B[38;5;28mself\u001B[39m\u001B[38;5;241m.\u001B[39m_backward_hooks \u001B[38;5;129;01mor\u001B[39;00m \u001B[38;5;28mself\u001B[39m\u001B[38;5;241m.\u001B[39m_backward_pre_hooks \u001B[38;5;129;01mor\u001B[39;00m \u001B[38;5;28mself\u001B[39m\u001B[38;5;241m.\u001B[39m_forward_hooks \u001B[38;5;129;01mor\u001B[39;00m \u001B[38;5;28mself\u001B[39m\u001B[38;5;241m.\u001B[39m_forward_pre_hooks\n\u001B[1;32m   1526\u001B[0m         \u001B[38;5;129;01mor\u001B[39;00m _global_backward_pre_hooks \u001B[38;5;129;01mor\u001B[39;00m _global_backward_hooks\n\u001B[1;32m   1527\u001B[0m         \u001B[38;5;129;01mor\u001B[39;00m _global_forward_hooks \u001B[38;5;129;01mor\u001B[39;00m _global_forward_pre_hooks):\n\u001B[0;32m-> 1528\u001B[0m     \u001B[38;5;28;01mreturn\u001B[39;00m \u001B[43mforward_call\u001B[49m\u001B[43m(\u001B[49m\u001B[38;5;241;43m*\u001B[39;49m\u001B[43margs\u001B[49m\u001B[43m,\u001B[49m\u001B[43m \u001B[49m\u001B[38;5;241;43m*\u001B[39;49m\u001B[38;5;241;43m*\u001B[39;49m\u001B[43mkwargs\u001B[49m\u001B[43m)\u001B[49m\n\u001B[1;32m   1530\u001B[0m \u001B[38;5;28;01mtry\u001B[39;00m:\n\u001B[1;32m   1531\u001B[0m     result \u001B[38;5;241m=\u001B[39m \u001B[38;5;28;01mNone\u001B[39;00m\n",
      "File \u001B[0;32m~/miniforge3/envs/Pan-cancer/lib/python3.11/site-packages/torch/nn/modules/conv.py:460\u001B[0m, in \u001B[0;36mConv2d.forward\u001B[0;34m(self, input)\u001B[0m\n\u001B[1;32m    459\u001B[0m \u001B[38;5;28;01mdef\u001B[39;00m \u001B[38;5;21mforward\u001B[39m(\u001B[38;5;28mself\u001B[39m, \u001B[38;5;28minput\u001B[39m: Tensor) \u001B[38;5;241m-\u001B[39m\u001B[38;5;241m>\u001B[39m Tensor:\n\u001B[0;32m--> 460\u001B[0m     \u001B[38;5;28;01mreturn\u001B[39;00m \u001B[38;5;28;43mself\u001B[39;49m\u001B[38;5;241;43m.\u001B[39;49m\u001B[43m_conv_forward\u001B[49m\u001B[43m(\u001B[49m\u001B[38;5;28;43minput\u001B[39;49m\u001B[43m,\u001B[49m\u001B[43m \u001B[49m\u001B[38;5;28;43mself\u001B[39;49m\u001B[38;5;241;43m.\u001B[39;49m\u001B[43mweight\u001B[49m\u001B[43m,\u001B[49m\u001B[43m \u001B[49m\u001B[38;5;28;43mself\u001B[39;49m\u001B[38;5;241;43m.\u001B[39;49m\u001B[43mbias\u001B[49m\u001B[43m)\u001B[49m\n",
      "File \u001B[0;32m~/miniforge3/envs/Pan-cancer/lib/python3.11/site-packages/torch/nn/modules/conv.py:456\u001B[0m, in \u001B[0;36mConv2d._conv_forward\u001B[0;34m(self, input, weight, bias)\u001B[0m\n\u001B[1;32m    452\u001B[0m \u001B[38;5;28;01mif\u001B[39;00m \u001B[38;5;28mself\u001B[39m\u001B[38;5;241m.\u001B[39mpadding_mode \u001B[38;5;241m!=\u001B[39m \u001B[38;5;124m'\u001B[39m\u001B[38;5;124mzeros\u001B[39m\u001B[38;5;124m'\u001B[39m:\n\u001B[1;32m    453\u001B[0m     \u001B[38;5;28;01mreturn\u001B[39;00m F\u001B[38;5;241m.\u001B[39mconv2d(F\u001B[38;5;241m.\u001B[39mpad(\u001B[38;5;28minput\u001B[39m, \u001B[38;5;28mself\u001B[39m\u001B[38;5;241m.\u001B[39m_reversed_padding_repeated_twice, mode\u001B[38;5;241m=\u001B[39m\u001B[38;5;28mself\u001B[39m\u001B[38;5;241m.\u001B[39mpadding_mode),\n\u001B[1;32m    454\u001B[0m                     weight, bias, \u001B[38;5;28mself\u001B[39m\u001B[38;5;241m.\u001B[39mstride,\n\u001B[1;32m    455\u001B[0m                     _pair(\u001B[38;5;241m0\u001B[39m), \u001B[38;5;28mself\u001B[39m\u001B[38;5;241m.\u001B[39mdilation, \u001B[38;5;28mself\u001B[39m\u001B[38;5;241m.\u001B[39mgroups)\n\u001B[0;32m--> 456\u001B[0m \u001B[38;5;28;01mreturn\u001B[39;00m \u001B[43mF\u001B[49m\u001B[38;5;241;43m.\u001B[39;49m\u001B[43mconv2d\u001B[49m\u001B[43m(\u001B[49m\u001B[38;5;28;43minput\u001B[39;49m\u001B[43m,\u001B[49m\u001B[43m \u001B[49m\u001B[43mweight\u001B[49m\u001B[43m,\u001B[49m\u001B[43m \u001B[49m\u001B[43mbias\u001B[49m\u001B[43m,\u001B[49m\u001B[43m \u001B[49m\u001B[38;5;28;43mself\u001B[39;49m\u001B[38;5;241;43m.\u001B[39;49m\u001B[43mstride\u001B[49m\u001B[43m,\u001B[49m\n\u001B[1;32m    457\u001B[0m \u001B[43m                \u001B[49m\u001B[38;5;28;43mself\u001B[39;49m\u001B[38;5;241;43m.\u001B[39;49m\u001B[43mpadding\u001B[49m\u001B[43m,\u001B[49m\u001B[43m \u001B[49m\u001B[38;5;28;43mself\u001B[39;49m\u001B[38;5;241;43m.\u001B[39;49m\u001B[43mdilation\u001B[49m\u001B[43m,\u001B[49m\u001B[43m \u001B[49m\u001B[38;5;28;43mself\u001B[39;49m\u001B[38;5;241;43m.\u001B[39;49m\u001B[43mgroups\u001B[49m\u001B[43m)\u001B[49m\n",
      "\u001B[0;31mRuntimeError\u001B[0m: Input type (MPSFloatType) and weight type (torch.FloatTensor) should be the same"
     ]
    }
   ],
   "source": [
    "record = chr_index[int((window_0 - 1) / 2):-int((window_0 - 1) / 2)]\n",
    "\n",
    "for b1 in tqdm(os.listdir(input_dir), desc=\"Processing\", unit=\"cell\"):\n",
    "    \n",
    "    path = input_dir + \"/\" + b1\n",
    "    \n",
    "    if not os.path.exists(path + \"/1000000.CNV.bedGraph\"):\n",
    "        continue\n",
    "    \n",
    "    try:\n",
    "        mat = read_mtx(path + \"/matrix.mtx\", chr_index)\n",
    "    except:\n",
    "        continue\n",
    "    \n",
    "    test_tensor, centers = slide(torch.from_numpy(mat), window_0, window_1)\n",
    "\n",
    "    model.eval()\n",
    "    with torch.no_grad():\n",
    "        test_tensor = test_tensor.unsqueeze(1).float().to(\"mps\")\n",
    "\n",
    "        test_pred = (torch.sigmoid(model(test_tensor, centers)).to(\"cpu\").numpy() > prob_threshold).astype(int)\n",
    "\n",
    "        record = pd.concat([record, pd.DataFrame({b1: test_pred}, index=range(2, len(test_pred) + 2))], axis=1)"
   ],
   "metadata": {
    "collapsed": false,
    "ExecuteTime": {
     "end_time": "2023-12-14T02:48:36.765785Z",
     "start_time": "2023-12-14T02:48:35.256208Z"
    }
   },
   "id": "58903d23c3202d6c"
  },
  {
   "cell_type": "code",
   "execution_count": 1,
   "outputs": [
    {
     "ename": "NameError",
     "evalue": "name 'pd' is not defined",
     "output_type": "error",
     "traceback": [
      "\u001B[0;31m---------------------------------------------------------------------------\u001B[0m",
      "\u001B[0;31mNameError\u001B[0m                                 Traceback (most recent call last)",
      "Cell \u001B[0;32mIn[1], line 1\u001B[0m\n\u001B[0;32m----> 1\u001B[0m freq \u001B[38;5;241m=\u001B[39m \u001B[43mpd\u001B[49m\u001B[38;5;241m.\u001B[39mDataFrame({\u001B[38;5;124m\"\u001B[39m\u001B[38;5;124mcount\u001B[39m\u001B[38;5;124m\"\u001B[39m: record\u001B[38;5;241m.\u001B[39miloc[:, \u001B[38;5;241m2\u001B[39m:]\u001B[38;5;241m.\u001B[39msum(axis\u001B[38;5;241m=\u001B[39m\u001B[38;5;241m1\u001B[39m), \u001B[38;5;124m\"\u001B[39m\u001B[38;5;124mfreq\u001B[39m\u001B[38;5;124m\"\u001B[39m: record\u001B[38;5;241m.\u001B[39miloc[:, \u001B[38;5;241m2\u001B[39m:]\u001B[38;5;241m.\u001B[39msum(axis\u001B[38;5;241m=\u001B[39m\u001B[38;5;241m1\u001B[39m) \u001B[38;5;241m/\u001B[39m record\u001B[38;5;241m.\u001B[39miloc[:, \u001B[38;5;241m2\u001B[39m:]\u001B[38;5;241m.\u001B[39mshape[\u001B[38;5;241m1\u001B[39m]})\n\u001B[1;32m      3\u001B[0m freq \u001B[38;5;241m=\u001B[39m pd\u001B[38;5;241m.\u001B[39mconcat([pd\u001B[38;5;241m.\u001B[39mDataFrame({\u001B[38;5;124m\"\u001B[39m\u001B[38;5;124mcount\u001B[39m\u001B[38;5;124m\"\u001B[39m: [\u001B[38;5;241m0\u001B[39m, \u001B[38;5;241m0\u001B[39m], \u001B[38;5;124m\"\u001B[39m\u001B[38;5;124mfreq\u001B[39m\u001B[38;5;124m\"\u001B[39m: [\u001B[38;5;241m0\u001B[39m, \u001B[38;5;241m0\u001B[39m]}), freq, pd\u001B[38;5;241m.\u001B[39mDataFrame({\u001B[38;5;124m\"\u001B[39m\u001B[38;5;124mcount\u001B[39m\u001B[38;5;124m\"\u001B[39m: [\u001B[38;5;241m0\u001B[39m, \u001B[38;5;241m0\u001B[39m], \u001B[38;5;124m\"\u001B[39m\u001B[38;5;124mfreq\u001B[39m\u001B[38;5;124m\"\u001B[39m: [\u001B[38;5;241m0\u001B[39m, \u001B[38;5;241m0\u001B[39m]})])\u001B[38;5;241m.\u001B[39mreset_index(drop\u001B[38;5;241m=\u001B[39m\u001B[38;5;28;01mTrue\u001B[39;00m)\n\u001B[1;32m      4\u001B[0m freq \u001B[38;5;241m=\u001B[39m pd\u001B[38;5;241m.\u001B[39mconcat([chr_index, freq], axis\u001B[38;5;241m=\u001B[39m\u001B[38;5;241m1\u001B[39m)\n",
      "\u001B[0;31mNameError\u001B[0m: name 'pd' is not defined"
     ]
    }
   ],
   "source": [
    "freq = pd.DataFrame({\"count\": record.iloc[:, 2:].sum(axis=1), \"freq\": record.iloc[:, 2:].sum(axis=1) / record.iloc[:, 2:].shape[1]})\n",
    "\n",
    "freq = pd.concat([pd.DataFrame({\"count\": [0, 0], \"freq\": [0, 0]}), freq, pd.DataFrame({\"count\": [0, 0], \"freq\": [0, 0]})]).reset_index(drop=True)\n",
    "freq = pd.concat([chr_index, freq], axis=1)\n",
    "\n",
    "freq[[\"chr\", \"start\"]] = freq[\"loc\"].str.split(\"_\", expand=True)\n",
    "freq[\"end\"] = freq[\"start\"].astype(int) + 1000000\n",
    "\n",
    "freq = freq.drop([\"loc\", \"index\"], axis=1)\n",
    "\n",
    "freq = freq[freq.columns[2:].tolist() + freq.columns[:2].tolist()]\n",
    "\n",
    "freq.to_csv(\"test_summary.txt\", index=False, sep=\"\\t\")"
   ],
   "metadata": {
    "collapsed": false,
    "ExecuteTime": {
     "end_time": "2023-12-14T00:59:47.006497Z",
     "start_time": "2023-12-14T00:59:46.904079Z"
    }
   },
   "id": "a1ad7bb74679b273"
  }
 ],
 "metadata": {
  "kernelspec": {
   "display_name": "Python 3",
   "language": "python",
   "name": "python3"
  },
  "language_info": {
   "codemirror_mode": {
    "name": "ipython",
    "version": 2
   },
   "file_extension": ".py",
   "mimetype": "text/x-python",
   "name": "python",
   "nbconvert_exporter": "python",
   "pygments_lexer": "ipython2",
   "version": "2.7.6"
  }
 },
 "nbformat": 4,
 "nbformat_minor": 5
}
